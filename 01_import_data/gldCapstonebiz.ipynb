{
 "cells": [
  {
   "cell_type": "code",
   "execution_count": 3,
   "metadata": {
    "collapsed": false
   },
   "outputs": [],
   "source": [
    "### IMPORT LIBRARIES\n",
    "\n",
    "# import graphlab as gl\n",
    "import pandas as pd\n",
    "import numpy as np\n",
    "import matplotlib as plt\n",
    "from scipy import stats"
   ]
  },
  {
   "cell_type": "code",
   "execution_count": 4,
   "metadata": {
    "collapsed": false
   },
   "outputs": [],
   "source": [
    "### DEFINE FUNCTIONS TO IMPORT JASON DATA\n",
    "\n",
    "import json\n",
    "\n",
    "def ParseJSON(fileName=None):\n",
    "\n",
    "   data = []\n",
    "   if fileName is None: raise ValueError(\"fileName cannot be None\")\n",
    "   with open(fileName) as fp:\n",
    "        for line in fp:\n",
    "            data.append(json.loads(line))\n",
    "\n",
    "\n",
    "   return(data)\n",
    "\n",
    "\n",
    "#### pass the data list and the token, get the list of the particular field back\n",
    "def ProcessID(data,token):\n",
    "\n",
    "   ID = []\n",
    "\n",
    "   for item in data:\n",
    "\n",
    "       ID.append(item[token])\n",
    "\n",
    "   return(ID)"
   ]
  },
  {
   "cell_type": "code",
   "execution_count": 5,
   "metadata": {
    "collapsed": false
   },
   "outputs": [],
   "source": [
    "######## LOAD ONLY 1,2, OR 3\n",
    "\n",
    "### 1. LOAD ORIGINAL DATA\n",
    "\n",
    "biz = pd.DataFrame(ParseJSON(fileName = 'Data/yelp_academic_dataset_business.json'))\n",
    "biz.shape\n",
    "data = biz[:]"
   ]
  },
  {
   "cell_type": "code",
   "execution_count": null,
   "metadata": {
    "collapsed": true
   },
   "outputs": [],
   "source": [
    "### 2. LOAD BINARY DATA - BIZ DATA with RESTO INDICATOR\n",
    "gdata = gl.load_sframe('businessdatabinary')\n",
    "biz = gdata.to_dataframe()\n",
    "data = biz[:]"
   ]
  },
  {
   "cell_type": "code",
   "execution_count": 5,
   "metadata": {
    "collapsed": false
   },
   "outputs": [],
   "source": [
    "### 3. LOAD BINARY DATA - BIZ DATA with RESTOS ONLY\n",
    "gdata = gl.load_sframe('restosdatabinary')\n",
    "biz = gdata.to_dataframe()\n",
    "data = biz[:]"
   ]
  },
  {
   "cell_type": "code",
   "execution_count": 12,
   "metadata": {
    "collapsed": false
   },
   "outputs": [
    {
     "data": {
      "text/plain": [
       "(30, 16)"
      ]
     },
     "execution_count": 12,
     "metadata": {},
     "output_type": "execute_result"
    }
   ],
   "source": [
    "minidata=data[:30]\n",
    "minidata.loc[:,\"restoind\"]=0\n",
    "minidata.shape"
   ]
  },
  {
   "cell_type": "code",
   "execution_count": 16,
   "metadata": {
    "collapsed": false
   },
   "outputs": [],
   "source": [
    "i=2\n",
    "minidata.iloc[i,15]=1"
   ]
  },
  {
   "cell_type": "code",
   "execution_count": 6,
   "metadata": {
    "collapsed": false
   },
   "outputs": [
    {
     "name": "stderr",
     "output_type": "stream",
     "text": [
      "/Users/gldomingo/Data_Science/anaconda/lib/python2.7/site-packages/pandas/core/indexing.py:284: SettingWithCopyWarning: \n",
      "A value is trying to be set on a copy of a slice from a DataFrame.\n",
      "Try using .loc[row_indexer,col_indexer] = value instead\n",
      "\n",
      "See the caveats in the documentation: http://pandas.pydata.org/pandas-docs/stable/indexing.html#indexing-view-versus-copy\n",
      "  self.obj[key] = _infer_fill_value(value)\n",
      "/Users/gldomingo/Data_Science/anaconda/lib/python2.7/site-packages/pandas/core/indexing.py:461: SettingWithCopyWarning: \n",
      "A value is trying to be set on a copy of a slice from a DataFrame.\n",
      "Try using .loc[row_indexer,col_indexer] = value instead\n",
      "\n",
      "See the caveats in the documentation: http://pandas.pydata.org/pandas-docs/stable/indexing.html#indexing-view-versus-copy\n",
      "  self.obj[item] = s\n"
     ]
    }
   ],
   "source": [
    "###********* DO NOT RUN!!! ***********************\n",
    "### ADD RESTO INDICATOR TO EACH RECORD\n",
    "resto = [\"Restaurants\",\"Bistros\",\"Brasseries\",\"Cafes\",\"Delicatessen\"]\n",
    "record=[]\n",
    "data.loc[:,\"restoind\"] = 0"
   ]
  },
  {
   "cell_type": "code",
   "execution_count": null,
   "metadata": {
    "collapsed": false
   },
   "outputs": [
    {
     "name": "stdout",
     "output_type": "stream",
     "text": [
      "0\n",
      "1000\n",
      "2000\n",
      "3000\n",
      "4000\n",
      "5000\n",
      "6000\n",
      "7000\n",
      "8000\n",
      "9000\n",
      "10000\n",
      "11000\n",
      "12000\n",
      "13000\n",
      "14000\n",
      "15000\n",
      "16000\n",
      "17000\n",
      "18000\n",
      "19000\n"
     ]
    }
   ],
   "source": [
    "for i in range(data.shape[0]):\n",
    "    record = data.iloc[i,:]\n",
    "    k=0\n",
    "    if not i % 1000:\n",
    "        print i\n",
    "    for cat in record['categories']:\n",
    "        if k > 0:\n",
    "            break\n",
    "        if (cat in resto):\n",
    "            k += 1 \n",
    "            data.iloc[i,15]=1"
   ]
  },
  {
   "cell_type": "code",
   "execution_count": null,
   "metadata": {
    "collapsed": false
   },
   "outputs": [
    {
     "name": "stdout",
     "output_type": "stream",
     "text": [
      "0\n",
      "1000\n",
      "2000\n",
      "3000\n",
      "4000\n",
      "5000\n",
      "6000\n",
      "7000\n",
      "8000\n",
      "9000\n",
      "10000\n",
      "11000\n",
      "12000\n",
      "13000\n",
      "14000\n",
      "15000\n",
      "16000\n",
      "17000\n",
      "18000\n",
      "19000\n",
      "20000\n",
      "21000\n",
      "22000\n",
      "23000\n",
      "24000\n"
     ]
    }
   ],
   "source": [
    "categories = data['categories']\n",
    "\n",
    "for i in range(categories.shape[0]):\n",
    "    if not i % 1000:\n",
    "        print i\n",
    "    var = categories.iloc[i]\n",
    "    if len((set(var).intersection(set(resto))))>0: data.iloc[i,15] = 1"
   ]
  },
  {
   "cell_type": "code",
   "execution_count": 14,
   "metadata": {
    "collapsed": false
   },
   "outputs": [
    {
     "data": {
      "text/plain": [
       "(77445, 16)"
      ]
     },
     "execution_count": 14,
     "metadata": {},
     "output_type": "execute_result"
    }
   ],
   "source": [
    "data.shape\n",
    "data.head(2)"
   ]
  },
  {
   "cell_type": "code",
   "execution_count": 7,
   "metadata": {
    "collapsed": false
   },
   "outputs": [
    {
     "data": {
      "text/plain": [
       "(77445,)"
      ]
     },
     "execution_count": 7,
     "metadata": {},
     "output_type": "execute_result"
    }
   ],
   "source": [
    "categories.shape"
   ]
  },
  {
   "cell_type": "code",
   "execution_count": 12,
   "metadata": {
    "collapsed": false
   },
   "outputs": [
    {
     "data": {
      "text/plain": [
       "(2585, 16)"
      ]
     },
     "execution_count": 12,
     "metadata": {},
     "output_type": "execute_result"
    }
   ],
   "source": [
    "restodata.shape"
   ]
  },
  {
   "cell_type": "code",
   "execution_count": 11,
   "metadata": {
    "collapsed": false
   },
   "outputs": [],
   "source": [
    "### CREATE NEW DATABASE WITH RESTAURANT TYPES ONLY\n",
    "restodata = data.loc[data[\"restoind\"]==1,]"
   ]
  },
  {
   "cell_type": "code",
   "execution_count": 107,
   "metadata": {
    "collapsed": false
   },
   "outputs": [],
   "source": [
    "### SAVE RESTO DATA IN BINARY FORMAT\n",
    "restodata = restodata[:14]\n",
    "restodata.head(1)\n",
    "gl.SFrame(restodata).save('restosdatabinary')"
   ]
  },
  {
   "cell_type": "code",
   "execution_count": 110,
   "metadata": {
    "collapsed": false
   },
   "outputs": [],
   "source": [
    "### CREATE MINI DATASET FOR TESTING CODE\n",
    "minidata = data[:20]"
   ]
  },
  {
   "cell_type": "code",
   "execution_count": 66,
   "metadata": {
    "collapsed": false
   },
   "outputs": [],
   "source": [
    "### CHECK MISSING DATA\n",
    "# data.apply(lambda x: sum(x.isnull()),axis=0)"
   ]
  },
  {
   "cell_type": "code",
   "execution_count": 111,
   "metadata": {
    "collapsed": false
   },
   "outputs": [
    {
     "data": {
      "text/plain": [
       "Index([u'attributes', u'business_id', u'categories', u'city', u'full_address',\n",
       "       u'hours', u'latitude', u'longitude', u'name', u'neighborhoods', u'open',\n",
       "       u'review_count', u'stars', u'state', u'type'],\n",
       "      dtype='object')"
      ]
     },
     "execution_count": 111,
     "metadata": {},
     "output_type": "execute_result"
    }
   ],
   "source": [
    "### GET COLUMN NAMES\n",
    "n = data.keys()\n",
    "n"
   ]
  },
  {
   "cell_type": "code",
   "execution_count": 112,
   "metadata": {
    "collapsed": false
   },
   "outputs": [
    {
     "data": {
      "text/html": [
       "<div>\n",
       "<table border=\"1\" class=\"dataframe\">\n",
       "  <thead>\n",
       "    <tr style=\"text-align: right;\">\n",
       "      <th></th>\n",
       "      <th>latitude</th>\n",
       "      <th>longitude</th>\n",
       "      <th>open</th>\n",
       "      <th>review_count</th>\n",
       "      <th>stars</th>\n",
       "    </tr>\n",
       "  </thead>\n",
       "  <tbody>\n",
       "    <tr>\n",
       "      <th>count</th>\n",
       "      <td>25082.000000</td>\n",
       "      <td>25082.000000</td>\n",
       "      <td>25082.000000</td>\n",
       "      <td>25082.000000</td>\n",
       "      <td>25082.000000</td>\n",
       "    </tr>\n",
       "    <tr>\n",
       "      <th>mean</th>\n",
       "      <td>38.250452</td>\n",
       "      <td>-93.123086</td>\n",
       "      <td>0.773543</td>\n",
       "      <td>59.529663</td>\n",
       "      <td>3.482358</td>\n",
       "    </tr>\n",
       "    <tr>\n",
       "      <th>std</th>\n",
       "      <td>6.048762</td>\n",
       "      <td>30.914435</td>\n",
       "      <td>0.418547</td>\n",
       "      <td>145.558399</td>\n",
       "      <td>0.749558</td>\n",
       "    </tr>\n",
       "    <tr>\n",
       "      <th>min</th>\n",
       "      <td>32.876619</td>\n",
       "      <td>-115.351900</td>\n",
       "      <td>0.000000</td>\n",
       "      <td>3.000000</td>\n",
       "      <td>1.000000</td>\n",
       "    </tr>\n",
       "    <tr>\n",
       "      <th>25%</th>\n",
       "      <td>33.565844</td>\n",
       "      <td>-112.273148</td>\n",
       "      <td>1.000000</td>\n",
       "      <td>7.000000</td>\n",
       "      <td>3.000000</td>\n",
       "    </tr>\n",
       "    <tr>\n",
       "      <th>50%</th>\n",
       "      <td>36.071293</td>\n",
       "      <td>-111.869248</td>\n",
       "      <td>1.000000</td>\n",
       "      <td>19.000000</td>\n",
       "      <td>3.500000</td>\n",
       "    </tr>\n",
       "    <tr>\n",
       "      <th>75%</th>\n",
       "      <td>43.014973</td>\n",
       "      <td>-80.044005</td>\n",
       "      <td>1.000000</td>\n",
       "      <td>57.000000</td>\n",
       "      <td>4.000000</td>\n",
       "    </tr>\n",
       "    <tr>\n",
       "      <th>max</th>\n",
       "      <td>56.036545</td>\n",
       "      <td>8.549249</td>\n",
       "      <td>1.000000</td>\n",
       "      <td>5642.000000</td>\n",
       "      <td>5.000000</td>\n",
       "    </tr>\n",
       "  </tbody>\n",
       "</table>\n",
       "</div>"
      ],
      "text/plain": [
       "           latitude     longitude          open  review_count         stars\n",
       "count  25082.000000  25082.000000  25082.000000  25082.000000  25082.000000\n",
       "mean      38.250452    -93.123086      0.773543     59.529663      3.482358\n",
       "std        6.048762     30.914435      0.418547    145.558399      0.749558\n",
       "min       32.876619   -115.351900      0.000000      3.000000      1.000000\n",
       "25%       33.565844   -112.273148      1.000000      7.000000      3.000000\n",
       "50%       36.071293   -111.869248      1.000000     19.000000      3.500000\n",
       "75%       43.014973    -80.044005      1.000000     57.000000      4.000000\n",
       "max       56.036545      8.549249      1.000000   5642.000000      5.000000"
      ]
     },
     "execution_count": 112,
     "metadata": {},
     "output_type": "execute_result"
    }
   ],
   "source": [
    "### SUMMARIZE DATA\n",
    "data.describe()"
   ]
  },
  {
   "cell_type": "code",
   "execution_count": 69,
   "metadata": {
    "collapsed": false
   },
   "outputs": [
    {
     "name": "stdout",
     "output_type": "stream",
     "text": [
      "Populating the interactive namespace from numpy and matplotlib\n"
     ]
    },
    {
     "name": "stderr",
     "output_type": "stream",
     "text": [
      "WARNING: pylab import has clobbered these variables: ['record', 'plt']\n",
      "`%matplotlib` prevents importing * from pylab and numpy\n"
     ]
    },
    {
     "data": {
      "text/plain": [
       "<matplotlib.axes._subplots.AxesSubplot at 0x165d1ded0>"
      ]
     },
     "execution_count": 69,
     "metadata": {},
     "output_type": "execute_result"
    },
    {
     "data": {
      "image/png": "[encoded data removed]",
      "text/plain": [
       "<matplotlib.figure.Figure at 0x165d1d5d0>"
      ]
     },
     "metadata": {},
     "output_type": "display_data"
    }
   ],
   "source": [
    "%pylab inline\n",
    "# data.boxplot(column='review_count', by = 'stars')\n",
    "data.boxplot(column='review_count', by = 'stars')"
   ]
  },
  {
   "cell_type": "code",
   "execution_count": 70,
   "metadata": {
    "collapsed": false
   },
   "outputs": [
    {
     "name": "stdout",
     "output_type": "stream",
     "text": [
      "Populating the interactive namespace from numpy and matplotlib\n"
     ]
    },
    {
     "data": {
      "text/plain": [
       "<matplotlib.axes._subplots.AxesSubplot at 0x16604b350>"
      ]
     },
     "execution_count": 70,
     "metadata": {},
     "output_type": "execute_result"
    },
    {
     "data": {
      "image/png": "[encoded data removed]",
      "text/plain": [
       "<matplotlib.figure.Figure at 0x16603b910>"
      ]
     },
     "metadata": {},
     "output_type": "display_data"
    }
   ],
   "source": [
    "### HISTOGRAM\n",
    "%pylab inline\n",
    "data['stars'].hist(bins=9)"
   ]
  },
  {
   "cell_type": "code",
   "execution_count": 81,
   "metadata": {
    "collapsed": false
   },
   "outputs": [
    {
     "data": {
      "text/html": [
       "<div>\n",
       "<table border=\"1\" class=\"dataframe\">\n",
       "  <thead>\n",
       "    <tr style=\"text-align: right;\">\n",
       "      <th></th>\n",
       "      <th>attributes</th>\n",
       "      <th>business_id</th>\n",
       "      <th>categories</th>\n",
       "      <th>city</th>\n",
       "      <th>full_address</th>\n",
       "      <th>hours</th>\n",
       "      <th>latitude</th>\n",
       "      <th>longitude</th>\n",
       "      <th>name</th>\n",
       "      <th>neighborhoods</th>\n",
       "      <th>open</th>\n",
       "      <th>review_count</th>\n",
       "      <th>stars</th>\n",
       "      <th>state</th>\n",
       "      <th>type</th>\n",
       "    </tr>\n",
       "  </thead>\n",
       "  <tbody>\n",
       "    <tr>\n",
       "      <th>0</th>\n",
       "      <td>{u'Take-out': 1, u'Drive-Thru': 0, u'Alcohol':...</td>\n",
       "      <td>5UmKMjUEUNdYWqANhGckJw</td>\n",
       "      <td>[Fast Food, Restaurants]</td>\n",
       "      <td>Dravosburg</td>\n",
       "      <td>4734 Lebanon Church Rd\\nDravosburg, PA 15034</td>\n",
       "      <td>{u'Tuesday': {u'close': u'21:00', u'open': u'1...</td>\n",
       "      <td>40.354327</td>\n",
       "      <td>-79.900706</td>\n",
       "      <td>Mr Hoagie</td>\n",
       "      <td>[]</td>\n",
       "      <td>1</td>\n",
       "      <td>4</td>\n",
       "      <td>4.5</td>\n",
       "      <td>PA</td>\n",
       "      <td>business</td>\n",
       "    </tr>\n",
       "    <tr>\n",
       "      <th>1</th>\n",
       "      <td>{u'Alcohol': u'full_bar', u'Noise Level': u'av...</td>\n",
       "      <td>mVHrayjG3uZ_RLHkLj-AMg</td>\n",
       "      <td>[Bars, American (New), Nightlife, Lounges, Res...</td>\n",
       "      <td>rankin</td>\n",
       "      <td>414 Hawkins Ave\\nrankin, PA 15104</td>\n",
       "      <td>{u'Tuesday': {u'close': u'19:00', u'open': u'1...</td>\n",
       "      <td>40.413464</td>\n",
       "      <td>-79.880247</td>\n",
       "      <td>Emil's Lounge</td>\n",
       "      <td>[]</td>\n",
       "      <td>1</td>\n",
       "      <td>20</td>\n",
       "      <td>5.0</td>\n",
       "      <td>PA</td>\n",
       "      <td>business</td>\n",
       "    </tr>\n",
       "  </tbody>\n",
       "</table>\n",
       "</div>"
      ],
      "text/plain": [
       "                                          attributes             business_id  \\\n",
       "0  {u'Take-out': 1, u'Drive-Thru': 0, u'Alcohol':...  5UmKMjUEUNdYWqANhGckJw   \n",
       "1  {u'Alcohol': u'full_bar', u'Noise Level': u'av...  mVHrayjG3uZ_RLHkLj-AMg   \n",
       "\n",
       "                                          categories        city  \\\n",
       "0                           [Fast Food, Restaurants]  Dravosburg   \n",
       "1  [Bars, American (New), Nightlife, Lounges, Res...      rankin   \n",
       "\n",
       "                                   full_address  \\\n",
       "0  4734 Lebanon Church Rd\\nDravosburg, PA 15034   \n",
       "1             414 Hawkins Ave\\nrankin, PA 15104   \n",
       "\n",
       "                                               hours   latitude  longitude  \\\n",
       "0  {u'Tuesday': {u'close': u'21:00', u'open': u'1...  40.354327 -79.900706   \n",
       "1  {u'Tuesday': {u'close': u'19:00', u'open': u'1...  40.413464 -79.880247   \n",
       "\n",
       "            name neighborhoods  open  review_count  stars state      type  \n",
       "0      Mr Hoagie            []     1             4    4.5    PA  business  \n",
       "1  Emil's Lounge            []     1            20    5.0    PA  business  "
      ]
     },
     "execution_count": 81,
     "metadata": {},
     "output_type": "execute_result"
    }
   ],
   "source": [
    "data.head(2)\n"
   ]
  },
  {
   "cell_type": "code",
   "execution_count": 23,
   "metadata": {
    "collapsed": false
   },
   "outputs": [],
   "source": [
    "### ADD FEATURES\n",
    "#data[\"elitecnt\"] = data[\"elite\"].apply(len)\n",
    "#data[\"friendscnt\"] = data[\"friends\"].apply(len)\n",
    "#data[\"totcompliments\"] = [sum(x.values()) for x in data[\"compliments\"]]\n",
    "#data[\"totvotes\"] = [sum(x.values()) for x in data[\"votes\"]]\n",
    "#data.head(2)"
   ]
  },
  {
   "cell_type": "code",
   "execution_count": 24,
   "metadata": {
    "collapsed": false
   },
   "outputs": [],
   "source": [
    "### REDUCE FEATURES AND CONVERT TO SFRAME\n",
    "#kdata = gl.SFrame(data[[0,3,6,8,10,11,12,13,14]])\n",
    "#kdata.head(2)"
   ]
  },
  {
   "cell_type": "code",
   "execution_count": 25,
   "metadata": {
    "collapsed": false
   },
   "outputs": [],
   "source": [
    "### RUN K-MEANS MODEL\n",
    "# kmeans_model = gl.kmeans.create(kdata, num_clusters=25, batch_size=50000,\n",
    "#                                max_iterations=20)\n",
    "\n",
    "#kmeans_model = gl.kmeans.create(kdata, num_clusters=25, max_iterations=200)\n",
    "#kmeans_model.summary()"
   ]
  },
  {
   "cell_type": "code",
   "execution_count": 26,
   "metadata": {
    "collapsed": false
   },
   "outputs": [],
   "source": [
    "### VIEW CLUSTER RESULTS\n",
    "#print kmeans_model[\"cluster_id\"]\n",
    "#kmeans_model[\"cluster_info\"]"
   ]
  },
  {
   "cell_type": "code",
   "execution_count": 14,
   "metadata": {
    "collapsed": false
   },
   "outputs": [],
   "source": [
    "### GET COLUMN NAMES FOR SFRAMES\n",
    "kdata.column_names"
   ]
  },
  {
   "cell_type": "code",
   "execution_count": 27,
   "metadata": {
    "collapsed": false
   },
   "outputs": [],
   "source": [
    "#kdata.show"
   ]
  },
  {
   "cell_type": "code",
   "execution_count": 56,
   "metadata": {
    "collapsed": false
   },
   "outputs": [
    {
     "data": {
      "text/html": [
       "<div>\n",
       "<table border=\"1\" class=\"dataframe\">\n",
       "  <thead>\n",
       "    <tr style=\"text-align: right;\">\n",
       "      <th></th>\n",
       "      <th>attributes</th>\n",
       "      <th>business_id</th>\n",
       "      <th>categories</th>\n",
       "      <th>city</th>\n",
       "      <th>full_address</th>\n",
       "      <th>hours</th>\n",
       "      <th>latitude</th>\n",
       "      <th>longitude</th>\n",
       "      <th>name</th>\n",
       "      <th>neighborhoods</th>\n",
       "      <th>open</th>\n",
       "      <th>review_count</th>\n",
       "      <th>stars</th>\n",
       "      <th>state</th>\n",
       "      <th>type</th>\n",
       "      <th>restoind</th>\n",
       "    </tr>\n",
       "  </thead>\n",
       "  <tbody>\n",
       "    <tr>\n",
       "      <th>0</th>\n",
       "      <td>{u'Take-out': 1, u'Drive-Thru': 0, u'Good For'...</td>\n",
       "      <td>5UmKMjUEUNdYWqANhGckJw</td>\n",
       "      <td>[Fast Food, Restaurants]</td>\n",
       "      <td>Dravosburg</td>\n",
       "      <td>4734 Lebanon Church Rd\\nDravosburg, PA 15034</td>\n",
       "      <td>{u'Thursday': {u'close': u'21:00', u'open': u'...</td>\n",
       "      <td>40.354327</td>\n",
       "      <td>-79.900706</td>\n",
       "      <td>Mr Hoagie</td>\n",
       "      <td>[]</td>\n",
       "      <td>1</td>\n",
       "      <td>4</td>\n",
       "      <td>4.5</td>\n",
       "      <td>PA</td>\n",
       "      <td>business</td>\n",
       "      <td>1</td>\n",
       "    </tr>\n",
       "    <tr>\n",
       "      <th>1</th>\n",
       "      <td>{u'Happy Hour': 1, u'Accepts Credit Cards': 1,...</td>\n",
       "      <td>UsFtqoBl7naz8AVUBZMjQQ</td>\n",
       "      <td>[Nightlife]</td>\n",
       "      <td>Dravosburg</td>\n",
       "      <td>202 McClure St\\nDravosburg, PA 15034</td>\n",
       "      <td>{}</td>\n",
       "      <td>40.350553</td>\n",
       "      <td>-79.886814</td>\n",
       "      <td>Clancy's Pub</td>\n",
       "      <td>[]</td>\n",
       "      <td>1</td>\n",
       "      <td>4</td>\n",
       "      <td>3.5</td>\n",
       "      <td>PA</td>\n",
       "      <td>business</td>\n",
       "      <td>0</td>\n",
       "    </tr>\n",
       "  </tbody>\n",
       "</table>\n",
       "</div>"
      ],
      "text/plain": [
       "                                          attributes             business_id  \\\n",
       "0  {u'Take-out': 1, u'Drive-Thru': 0, u'Good For'...  5UmKMjUEUNdYWqANhGckJw   \n",
       "1  {u'Happy Hour': 1, u'Accepts Credit Cards': 1,...  UsFtqoBl7naz8AVUBZMjQQ   \n",
       "\n",
       "                 categories        city  \\\n",
       "0  [Fast Food, Restaurants]  Dravosburg   \n",
       "1               [Nightlife]  Dravosburg   \n",
       "\n",
       "                                   full_address  \\\n",
       "0  4734 Lebanon Church Rd\\nDravosburg, PA 15034   \n",
       "1          202 McClure St\\nDravosburg, PA 15034   \n",
       "\n",
       "                                               hours   latitude  longitude  \\\n",
       "0  {u'Thursday': {u'close': u'21:00', u'open': u'...  40.354327 -79.900706   \n",
       "1                                                 {}  40.350553 -79.886814   \n",
       "\n",
       "           name neighborhoods  open  review_count  stars state      type  \\\n",
       "0     Mr Hoagie            []     1             4    4.5    PA  business   \n",
       "1  Clancy's Pub            []     1             4    3.5    PA  business   \n",
       "\n",
       "   restoind  \n",
       "0         1  \n",
       "1         0  "
      ]
     },
     "execution_count": 56,
     "metadata": {},
     "output_type": "execute_result"
    }
   ],
   "source": [
    "### LOOK AT FIRST FEW RECORDS\n",
    "data.head(2)"
   ]
  },
  {
   "cell_type": "code",
   "execution_count": 82,
   "metadata": {
    "collapsed": false
   },
   "outputs": [
    {
     "data": {
      "text/plain": [
       "3.5    6706\n",
       "4.0    6450\n",
       "3.0    4345\n",
       "4.5    2976\n",
       "2.5    2478\n",
       "Name: stars, dtype: int64"
      ]
     },
     "execution_count": 82,
     "metadata": {},
     "output_type": "execute_result"
    }
   ],
   "source": [
    "### Counts\n",
    "data['stars'].value_counts().head()"
   ]
  },
  {
   "cell_type": "code",
   "execution_count": 125,
   "metadata": {
    "collapsed": false
   },
   "outputs": [
    {
     "data": {
      "text/plain": [
       "<generator object <genexpr> at 0x1626c30f0>"
      ]
     },
     "execution_count": 125,
     "metadata": {},
     "output_type": "execute_result"
    }
   ],
   "source": [
    "#data['categories'].values\n",
    "#any(el[1] == 'str_1' for el in t)\n",
    "any(cat == 'Restaurant' for cat in data.categories[0])\n",
    "[n for n, (i, s) in enumerate(t) if s == 'str_3']\n",
    "#data.categories.values\n",
    "# sum(data.loc[data['elitecnt']!=0,'elitecnt'].value_counts())\n",
    "# data.loc[data['elitecnt']!=0,'elitecnt'].value_counts()"
   ]
  },
  {
   "cell_type": "code",
   "execution_count": 165,
   "metadata": {
    "collapsed": true
   },
   "outputs": [],
   "source": [
    "def ProcessID(data,token):\n",
    "\n",
    "    ID = []\n",
    "\n",
    "    for item in data:\n",
    "        if token in item.keys():\n",
    "            ID.append(item[token])\n",
    "        else:\n",
    "            ID.append({})\n",
    "\n",
    "    return(ID)\n"
   ]
  },
  {
   "cell_type": "code",
   "execution_count": 188,
   "metadata": {
    "collapsed": false
   },
   "outputs": [
    {
     "name": "stdout",
     "output_type": "stream",
     "text": [
      "0     {u'Take-out': 1, u'Drive-Thru': 0, u'Alcohol':...\n",
      "1     {u'Alcohol': u'full_bar', u'Noise Level': u'av...\n",
      "2     {u'Alcohol': u'full_bar', u'Noise Level': u'lo...\n",
      "3     {u'Take-out': 1, u'Drive-Thru': 0, u'Alcohol':...\n",
      "4     {u'Alcohol': u'full_bar', u'Noise Level': u'av...\n",
      "5     {u'Alcohol': u'none', u'Noise Level': u'averag...\n",
      "6     {u'Take-out': 1, u'Alcohol': u'none', u'Noise ...\n",
      "7     {u'Take-out': 1, u'Alcohol': u'full_bar', u'Go...\n",
      "8     {u'Wheelchair Accessible': 1, u'Take-out': 1, ...\n",
      "9     {u'Take-out': 1, u'Alcohol': u'none', u'Noise ...\n",
      "10    {u'Take-out': 1, u'Wi-Fi': u'no', u'Alcohol': ...\n",
      "11    {u'Wheelchair Accessible': 1, u'Take-out': 1, ...\n",
      "12    {u'Wheelchair Accessible': 0, u'Take-out': 1, ...\n",
      "13    {u'Take-out': 1, u'Noise Level': u'average', u...\n",
      "14    {u'Wheelchair Accessible': 1, u'Take-out': 1, ...\n",
      "15    {u'Take-out': 1, u'Alcohol': u'full_bar', u'Go...\n",
      "16    {u'Alcohol': u'full_bar', u'Noise Level': u've...\n",
      "17    {u'Take-out': 1, u'Wi-Fi': u'free', u'Drive-Th...\n",
      "18                                                   {}\n",
      "19    {u'Wheelchair Accessible': 1, u'Take-out': 1, ...\n",
      "Name: attributes, dtype: object\n"
     ]
    }
   ],
   "source": [
    "print minidata.attributes"
   ]
  },
  {
   "cell_type": "code",
   "execution_count": 246,
   "metadata": {
    "collapsed": false
   },
   "outputs": [
    {
     "name": "stdout",
     "output_type": "stream",
     "text": [
      "25082\n"
     ]
    },
    {
     "data": {
      "text/plain": [
       "23415"
      ]
     },
     "execution_count": 246,
     "metadata": {},
     "output_type": "execute_result"
    }
   ],
   "source": [
    "### GET PRICE RANGE OF RESTAURANTS\n",
    "\n",
    "pricerange=[]\n",
    "for i in range(len(data)):\n",
    "    x = data.iloc[i].attributes.get(\"Price Range\")\n",
    "    pricerange.append(x)\n",
    "\n",
    "print len(pricerange)\n",
    "sum([1 for x in pricerange if x!=None])\n",
    "\n",
    "# pricerange"
   ]
  },
  {
   "cell_type": "code",
   "execution_count": 208,
   "metadata": {
    "collapsed": false
   },
   "outputs": [
    {
     "name": "stdout",
     "output_type": "stream",
     "text": [
      "25082\n"
     ]
    },
    {
     "data": {
      "text/plain": [
       "9504"
      ]
     },
     "execution_count": 208,
     "metadata": {},
     "output_type": "execute_result"
    }
   ],
   "source": [
    "### GET OUTDOOR SEATING OF RESTAURANTS\n",
    "\n",
    "outdoor = []\n",
    "for i in range(len(data)):\n",
    "    x = data.iloc[i].attributes.get(\"Outdoor Seating\")\n",
    "    outdoor.append(x)\n",
    "\n",
    "print len(outdoor)\n",
    "sum([1 for x in outdoor if x==1])\n",
    "\n",
    "# outdoor"
   ]
  },
  {
   "cell_type": "code",
   "execution_count": null,
   "metadata": {
    "collapsed": true
   },
   "outputs": [],
   "source": [
    "### GET TYPE OF RESTAURANT\n",
    "\n",
    "restotype = []\n",
    "for i in range(len(minidata)):\n",
    "    x = minidata.iloc[i].categories.get(\"Outdoor Seating\")\n",
    "    restotype.append(x)\n",
    "\n",
    "print len(restotype)\n",
    "sum([1 for x in restotype if x==1])\n",
    "\n",
    "# restotype"
   ]
  },
  {
   "cell_type": "code",
   "execution_count": 212,
   "metadata": {
    "collapsed": false
   },
   "outputs": [
    {
     "data": {
      "text/plain": [
       "0                              [Fast Food, Restaurants]\n",
       "1     [Bars, American (New), Nightlife, Lounges, Res...\n",
       "2     [Bars, American (Traditional), Nightlife, Rest...\n",
       "3     [Burgers, Breakfast & Brunch, American (Tradit...\n",
       "4     [Bars, American (Traditional), Nightlife, Loun...\n",
       "5         [Breakfast & Brunch, Sandwiches, Restaurants]\n",
       "6                                  [Cafes, Restaurants]\n",
       "7           [Pubs, Irish, Nightlife, Bars, Restaurants]\n",
       "8                                         [Restaurants]\n",
       "9                                [Chinese, Restaurants]\n",
       "10                [American (Traditional), Restaurants]\n",
       "11                               [Restaurants, Italian]\n",
       "12    [American (Traditional), Comfort Food, Caterer...\n",
       "13                        [Italian, Pizza, Restaurants]\n",
       "14                    [Burgers, Fast Food, Restaurants]\n",
       "15    [Pubs, Bars, American (New), Nightlife, Restau...\n",
       "16    [Arts & Entertainment, American (Traditional),...\n",
       "17                    [Burgers, Fast Food, Restaurants]\n",
       "18                                 [Pizza, Restaurants]\n",
       "19    [Food, American (Traditional), Breweries, Rest...\n",
       "Name: categories, dtype: object"
      ]
     },
     "execution_count": 212,
     "metadata": {},
     "output_type": "execute_result"
    }
   ],
   "source": [
    "minidata.categories"
   ]
  },
  {
   "cell_type": "code",
   "execution_count": 200,
   "metadata": {
    "collapsed": false
   },
   "outputs": [
    {
     "data": {
      "text/plain": [
       "[{'casual': 0,\n",
       "  'classy': 0,\n",
       "  'divey': 0,\n",
       "  'hipster': 0,\n",
       "  'intimate': 0,\n",
       "  'romantic': 0,\n",
       "  'touristy': 0,\n",
       "  'trendy': 0,\n",
       "  'upscale': 0},\n",
       " {'casual': 0,\n",
       "  'classy': 0,\n",
       "  'divey': 0,\n",
       "  'hipster': 0,\n",
       "  'intimate': 0,\n",
       "  'romantic': 0,\n",
       "  'touristy': 0,\n",
       "  'trendy': 0,\n",
       "  'upscale': 0},\n",
       " {'casual': 1,\n",
       "  'classy': 0,\n",
       "  'divey': 0,\n",
       "  'hipster': 0,\n",
       "  'intimate': 0,\n",
       "  'romantic': 0,\n",
       "  'touristy': 0,\n",
       "  'trendy': 0,\n",
       "  'upscale': 0},\n",
       " {},\n",
       " {'casual': 0,\n",
       "  'classy': 0,\n",
       "  'divey': 0,\n",
       "  'hipster': 0,\n",
       "  'intimate': 0,\n",
       "  'romantic': 0,\n",
       "  'touristy': 0,\n",
       "  'trendy': 0,\n",
       "  'upscale': 0},\n",
       " {'casual': 0,\n",
       "  'classy': 0,\n",
       "  'divey': 1,\n",
       "  'hipster': 0,\n",
       "  'intimate': 0,\n",
       "  'romantic': 0,\n",
       "  'touristy': 0,\n",
       "  'trendy': 0,\n",
       "  'upscale': 0},\n",
       " {'casual': 0,\n",
       "  'classy': 0,\n",
       "  'divey': 0,\n",
       "  'hipster': 0,\n",
       "  'intimate': 0,\n",
       "  'romantic': 0,\n",
       "  'touristy': 0,\n",
       "  'trendy': 0,\n",
       "  'upscale': 0},\n",
       " {'casual': 0,\n",
       "  'classy': 0,\n",
       "  'divey': 0,\n",
       "  'hipster': 0,\n",
       "  'intimate': 0,\n",
       "  'romantic': 0,\n",
       "  'touristy': 0,\n",
       "  'trendy': 0,\n",
       "  'upscale': 0},\n",
       " {'casual': 0,\n",
       "  'classy': 0,\n",
       "  'divey': 0,\n",
       "  'hipster': 0,\n",
       "  'intimate': 0,\n",
       "  'romantic': 0,\n",
       "  'touristy': 0,\n",
       "  'trendy': 0,\n",
       "  'upscale': 0},\n",
       " {},\n",
       " {'casual': 0,\n",
       "  'classy': 0,\n",
       "  'divey': 0,\n",
       "  'hipster': 0,\n",
       "  'intimate': 0,\n",
       "  'romantic': 0,\n",
       "  'touristy': 0,\n",
       "  'trendy': 0,\n",
       "  'upscale': 0},\n",
       " {'casual': 1,\n",
       "  'classy': 0,\n",
       "  'divey': 0,\n",
       "  'hipster': 0,\n",
       "  'intimate': 0,\n",
       "  'romantic': 0,\n",
       "  'touristy': 0,\n",
       "  'trendy': 0,\n",
       "  'upscale': 0},\n",
       " {'casual': 0,\n",
       "  'classy': 0,\n",
       "  'divey': 0,\n",
       "  'hipster': 0,\n",
       "  'intimate': 0,\n",
       "  'romantic': 0,\n",
       "  'touristy': 0,\n",
       "  'trendy': 0,\n",
       "  'upscale': 0},\n",
       " {'casual': 0,\n",
       "  'classy': 0,\n",
       "  'divey': 0,\n",
       "  'hipster': 0,\n",
       "  'intimate': 0,\n",
       "  'romantic': 0,\n",
       "  'touristy': 0,\n",
       "  'trendy': 0,\n",
       "  'upscale': 0},\n",
       " {'casual': 1,\n",
       "  'classy': 0,\n",
       "  'divey': 0,\n",
       "  'hipster': 0,\n",
       "  'intimate': 0,\n",
       "  'romantic': 0,\n",
       "  'touristy': 0,\n",
       "  'trendy': 0,\n",
       "  'upscale': 0},\n",
       " {'casual': 1,\n",
       "  'classy': 0,\n",
       "  'divey': 0,\n",
       "  'hipster': 0,\n",
       "  'intimate': 0,\n",
       "  'romantic': 0,\n",
       "  'touristy': 0,\n",
       "  'trendy': 0},\n",
       " {'casual': 1,\n",
       "  'classy': 0,\n",
       "  'divey': 0,\n",
       "  'hipster': 0,\n",
       "  'intimate': 0,\n",
       "  'romantic': 0,\n",
       "  'touristy': 0,\n",
       "  'trendy': 0,\n",
       "  'upscale': 0},\n",
       " {'casual': 0,\n",
       "  'classy': 0,\n",
       "  'divey': 0,\n",
       "  'hipster': 0,\n",
       "  'intimate': 0,\n",
       "  'romantic': 0,\n",
       "  'touristy': 0,\n",
       "  'trendy': 0,\n",
       "  'upscale': 0},\n",
       " {},\n",
       " {'casual': 1,\n",
       "  'classy': 0,\n",
       "  'divey': 0,\n",
       "  'hipster': 0,\n",
       "  'intimate': 0,\n",
       "  'romantic': 0,\n",
       "  'touristy': 0,\n",
       "  'trendy': 0,\n",
       "  'upscale': 0}]"
      ]
     },
     "execution_count": 200,
     "metadata": {},
     "output_type": "execute_result"
    }
   ],
   "source": [
    "amb = ProcessID(minidata[\"categories\"], 'Ambience')\n",
    "amb"
   ]
  },
  {
   "cell_type": "code",
   "execution_count": 204,
   "metadata": {
    "collapsed": false
   },
   "outputs": [
    {
     "data": {
      "text/plain": [
       "{'casual': 0,\n",
       " 'classy': 0,\n",
       " 'divey': 0,\n",
       " 'hipster': 0,\n",
       " 'intimate': 0,\n",
       " 'romantic': 0,\n",
       " 'touristy': 0,\n",
       " 'trendy': 0,\n",
       " 'upscale': 0}"
      ]
     },
     "execution_count": 204,
     "metadata": {},
     "output_type": "execute_result"
    }
   ],
   "source": [
    "minidata.iloc[0].attributes.get('Ambience')"
   ]
  },
  {
   "cell_type": "code",
   "execution_count": 215,
   "metadata": {
    "collapsed": false,
    "scrolled": true
   },
   "outputs": [
    {
     "data": {
      "text/plain": [
       "{'Accepts Credit Cards',\n",
       " 'Accepts Insurance',\n",
       " 'Ages Allowed',\n",
       " 'Alcohol',\n",
       " 'Ambience',\n",
       " 'Attire',\n",
       " 'BYOB',\n",
       " 'BYOB/Corkage',\n",
       " 'By Appointment Only',\n",
       " 'Caters',\n",
       " 'Coat Check',\n",
       " 'Corkage',\n",
       " 'Delivery',\n",
       " 'Dietary Restrictions',\n",
       " 'Dogs Allowed',\n",
       " 'Drive-Thru',\n",
       " 'Good For',\n",
       " 'Good For Dancing',\n",
       " 'Good For Groups',\n",
       " 'Good for Kids',\n",
       " 'Happy Hour',\n",
       " 'Has TV',\n",
       " 'Music',\n",
       " 'Noise Level',\n",
       " 'Open 24 Hours',\n",
       " 'Order at Counter',\n",
       " 'Outdoor Seating',\n",
       " 'Parking',\n",
       " 'Price Range',\n",
       " 'Smoking',\n",
       " 'Take-out',\n",
       " 'Takes Reservations',\n",
       " 'Waiter Service',\n",
       " 'Wheelchair Accessible',\n",
       " 'Wi-Fi'}"
      ]
     },
     "execution_count": 215,
     "metadata": {},
     "output_type": "execute_result"
    }
   ],
   "source": [
    "### GET UNIQUE ATTRIBUTES\n",
    "attkeys=[]\n",
    "for i in range(len(data)):\n",
    "    attkeys = attkeys + data.loc[i].attributes.keys()\n",
    "set(attkeys)"
   ]
  },
  {
   "cell_type": "code",
   "execution_count": 229,
   "metadata": {
    "collapsed": false,
    "scrolled": true
   },
   "outputs": [
    {
     "data": {
      "text/plain": [
       "298"
      ]
     },
     "execution_count": 229,
     "metadata": {},
     "output_type": "execute_result"
    }
   ],
   "source": [
    "### GET UNIQUE CATEGORIES\n",
    "catkeys=[]\n",
    "for i in range(len(data)):\n",
    "    catkeys = catkeys + data.loc[i].categories\n",
    "# minidata.apply(lambda x: pd.Series(x['info'].values(), index=data[''].keys()))\n",
    "len(set(catkeys))\n",
    "\n",
    "catkeys = set(catkeys)"
   ]
  },
  {
   "cell_type": "code",
   "execution_count": 268,
   "metadata": {
    "collapsed": false
   },
   "outputs": [
    {
     "data": {
      "text/plain": [
       "0.0"
      ]
     },
     "execution_count": 268,
     "metadata": {},
     "output_type": "execute_result"
    }
   ],
   "source": [
    "restocatdict['Italian']"
   ]
  },
  {
   "cell_type": "code",
   "execution_count": 271,
   "metadata": {
    "collapsed": false
   },
   "outputs": [],
   "source": [
    "### GET COUNT OF CATEGORIES\n",
    "restocatdict = dict(zip(catkeys,np.zeros(len(catkeys))))\n",
    "\n",
    "for i in range(len(data)):\n",
    "    for cat in data.loc[i].categories:\n",
    "        restocatdict[cat] += 1 "
   ]
  },
  {
   "cell_type": "code",
   "execution_count": 273,
   "metadata": {
    "collapsed": false
   },
   "outputs": [
    {
     "data": {
      "text/plain": [
       "[('Dry Cleaning & Laundry', 1.0),\n",
       " ('Boating', 1.0),\n",
       " ('Oriental', 1.0),\n",
       " ('Pets', 1.0),\n",
       " ('Pretzels', 1.0),\n",
       " ('Fitness & Instruction', 1.0),\n",
       " ('Travel Services', 1.0),\n",
       " ('Armenian', 1.0),\n",
       " ('Haitian', 1.0),\n",
       " ('Parking', 1.0),\n",
       " ('Swiss Food', 1.0),\n",
       " ('Food Tours', 1.0),\n",
       " ('DJs', 1.0),\n",
       " ('Banks & Credit Unions', 1.0),\n",
       " ('Hiking', 1.0),\n",
       " ('Public Services & Government', 1.0),\n",
       " ('Department Stores', 1.0),\n",
       " ('Antiques', 1.0),\n",
       " ('Kitchen & Bath', 1.0),\n",
       " ('Palatine', 1.0),\n",
       " ('Sports Wear', 1.0),\n",
       " ('Pet Services', 1.0),\n",
       " ('Guest Houses', 1.0),\n",
       " ('Car Wash', 1.0),\n",
       " ('Lakes', 1.0),\n",
       " ('Supper Clubs', 1.0),\n",
       " ('Iberian', 1.0),\n",
       " ('Hobby Shops', 1.0),\n",
       " ('Slovakian', 1.0),\n",
       " ('Appliances', 1.0),\n",
       " ('Eastern European', 1.0),\n",
       " ('Musicians', 1.0),\n",
       " ('Hardware Stores', 1.0),\n",
       " ('Health & Medical', 1.0),\n",
       " ('Bikes', 1.0),\n",
       " ('Yoga', 1.0),\n",
       " ('Ethnic Grocery', 1.0),\n",
       " ('Building Supplies', 1.0),\n",
       " ('Kids Activities', 1.0),\n",
       " ('Nutritionists', 1.0),\n",
       " ('Coffee & Tea Supplies', 1.0),\n",
       " ('Landmarks & Historical Buildings', 1.0),\n",
       " ('Rhinelandian', 1.0),\n",
       " ('Leisure Centers', 1.0),\n",
       " ('Toy Stores', 1.0),\n",
       " ('Flea Markets', 1.0),\n",
       " ('Pita', 1.0),\n",
       " ('Local Services', 1.0),\n",
       " ('Apartments', 1.0),\n",
       " ('Financial Services', 1.0),\n",
       " ('Wok', 1.0),\n",
       " ('Cosmetics & Beauty Supply', 1.0),\n",
       " ('Piano Bars', 1.0),\n",
       " ('Soccer', 1.0),\n",
       " ('Furniture Stores', 1.0),\n",
       " ('Trinidadian', 1.0),\n",
       " ('Day Spas', 1.0),\n",
       " ('Real Estate', 1.0),\n",
       " ('Flowers & Gifts', 1.0),\n",
       " ('Beer Hall', 1.0),\n",
       " ('Discount Store', 1.0),\n",
       " ('Auto Repair', 1.0),\n",
       " ('Plumbing', 1.0),\n",
       " ('Country Clubs', 1.0),\n",
       " ('Heating & Air Conditioning/HVAC', 1.0),\n",
       " ('Austrian', 2.0),\n",
       " ('Country Dance Halls', 2.0),\n",
       " ('Macarons', 2.0),\n",
       " ('Specialty Schools', 2.0),\n",
       " ('Herbs & Spices', 2.0),\n",
       " ('Beauty & Spas', 2.0),\n",
       " ('Shopping Centers', 2.0),\n",
       " ('Distilleries', 2.0),\n",
       " ('Bavarian', 2.0),\n",
       " ('Tours', 2.0),\n",
       " ('Alsatian', 2.0),\n",
       " ('Home Decor', 2.0),\n",
       " ('Cupcakes', 2.0),\n",
       " ('Champagne Bars', 2.0),\n",
       " ('Empanadas', 2.0),\n",
       " ('Colleges & Universities', 2.0),\n",
       " ('Candy Stores', 2.0),\n",
       " ('Cooking Schools', 2.0),\n",
       " ('Czech', 2.0),\n",
       " ('Pub Food', 2.0),\n",
       " ('Organic Stores', 3.0),\n",
       " ('Pasta Shops', 3.0),\n",
       " ('Sporting Goods', 3.0),\n",
       " ('Fashion', 3.0),\n",
       " ('Bed & Breakfast', 3.0),\n",
       " ('Education', 3.0),\n",
       " ('Personal Chefs', 3.0),\n",
       " ('Amateur Sports Teams', 3.0),\n",
       " ('Uzbek', 3.0),\n",
       " ('Farmers Market', 3.0),\n",
       " ('Amusement Parks', 3.0),\n",
       " ('Singaporean', 3.0),\n",
       " ('Cinema', 3.0),\n",
       " ('Performing Arts', 3.0),\n",
       " ('Adult Entertainment', 3.0),\n",
       " ('Hungarian', 3.0),\n",
       " ('Fruits & Veggies', 3.0),\n",
       " ('Home Services', 3.0),\n",
       " ('Australian', 3.0),\n",
       " ('Sports Clubs', 3.0),\n",
       " ('Ukrainian', 3.0),\n",
       " ('Arts & Crafts', 3.0),\n",
       " ('Sri Lankan', 3.0),\n",
       " ('Curry Sausage', 4.0),\n",
       " ('Dominican', 4.0),\n",
       " ('Burmese', 4.0),\n",
       " ('Wineries', 4.0),\n",
       " ('Art Galleries', 4.0),\n",
       " ('Party & Event Planning', 4.0),\n",
       " ('Bangladeshi', 4.0),\n",
       " ('Home & Garden', 4.0),\n",
       " ('Social Clubs', 4.0),\n",
       " ('Swimming Pools', 4.0),\n",
       " ('Festivals', 4.0),\n",
       " ('Teppanyaki', 5.0),\n",
       " ('Beer Bar', 5.0),\n",
       " ('Shanghainese', 5.0),\n",
       " ('Bookstores', 5.0),\n",
       " ('Laotian', 5.0),\n",
       " ('Egyptian', 5.0),\n",
       " ('Local Flavor', 5.0),\n",
       " ('Books, Mags, Music & Video', 5.0),\n",
       " ('Cafeteria', 5.0),\n",
       " ('Puerto Rican', 6.0),\n",
       " ('Irish Pub', 6.0),\n",
       " ('Gas & Service Stations', 6.0),\n",
       " ('Gay Bars', 6.0),\n",
       " ('Serbo Croatian', 6.0),\n",
       " ('Indonesian', 7.0),\n",
       " ('Gelato', 7.0),\n",
       " ('Chocolatiers & Shops', 8.0),\n",
       " ('Internet Cafes', 8.0),\n",
       " ('Health Markets', 8.0),\n",
       " ('Argentine', 8.0),\n",
       " ('Venezuelan', 8.0),\n",
       " ('Patisserie/Cake Shop', 9.0),\n",
       " ('Bowling', 9.0),\n",
       " ('Automotive', 9.0),\n",
       " ('Cambodian', 9.0),\n",
       " ('Shaved Ice', 10.0),\n",
       " ('Scandinavian', 10.0),\n",
       " ('Chicken Shop', 10.0),\n",
       " ('Malaysian', 10.0),\n",
       " ('Arabian', 11.0),\n",
       " ('Butcher', 11.0),\n",
       " ('Baden', 11.0),\n",
       " ('Beer Gardens', 12.0),\n",
       " ('Falafel', 13.0),\n",
       " ('Hot Pot', 13.0),\n",
       " ('Do-It-Yourself Food', 14.0),\n",
       " ('Seafood Markets', 14.0),\n",
       " ('Pool Halls', 14.0),\n",
       " ('Himalayan/Nepalese', 14.0),\n",
       " ('Golf', 15.0),\n",
       " ('Bubble Tea', 16.0),\n",
       " ('Live/Raw Food', 16.0),\n",
       " ('Afghan', 16.0),\n",
       " ('Colombian', 16.0),\n",
       " ('Arcades', 16.0),\n",
       " ('Russian', 17.0),\n",
       " ('Basque', 17.0),\n",
       " ('Belgian', 18.0),\n",
       " ('International', 18.0),\n",
       " ('Jazz & Blues', 18.0),\n",
       " ('Convenience Stores', 18.0),\n",
       " ('Delicatessen', 18.0),\n",
       " ('Fondue', 19.0),\n",
       " ('Cheese Shops', 20.0),\n",
       " ('Poutineries', 22.0),\n",
       " ('Polish', 23.0),\n",
       " ('Moroccan', 23.0),\n",
       " ('Meat Shops', 23.0),\n",
       " ('Salvadoran', 25.0),\n",
       " ('Bistros', 26.0),\n",
       " ('Cantonese', 26.0),\n",
       " ('Mongolian', 27.0),\n",
       " ('Beer Garden', 27.0),\n",
       " ('Shopping', 28.0),\n",
       " ('Ethiopian', 28.0),\n",
       " ('Hookah Bars', 28.0),\n",
       " ('Tea Rooms', 30.0),\n",
       " ('Szechuan', 30.0),\n",
       " ('Food Court', 33.0),\n",
       " ('Kosher', 33.0),\n",
       " ('Cuban', 34.0),\n",
       " ('Brazilian', 34.0),\n",
       " ('Ramen', 34.0),\n",
       " ('Donuts', 34.0),\n",
       " ('Dance Clubs', 35.0),\n",
       " ('Kebab', 35.0),\n",
       " ('Casinos', 37.0),\n",
       " ('Street Vendors', 38.0),\n",
       " ('Food Delivery Services', 39.0),\n",
       " ('Scottish', 39.0),\n",
       " ('African', 40.0),\n",
       " ('Persian/Iranian', 42.0),\n",
       " ('Active Life', 43.0),\n",
       " ('Taiwanese', 43.0),\n",
       " ('Lebanese', 43.0),\n",
       " ('Hotels', 46.0),\n",
       " ('Halal', 47.0),\n",
       " ('Venues & Event Spaces', 49.0),\n",
       " ('Peruvian', 49.0),\n",
       " ('Karaoke', 51.0),\n",
       " ('Hotels & Travel', 54.0),\n",
       " ('Dim Sum', 56.0),\n",
       " ('Modern European', 58.0),\n",
       " ('Dive Bars', 62.0),\n",
       " ('Cheesesteaks', 66.0),\n",
       " ('Brasseries', 67.0),\n",
       " ('Portuguese', 69.0),\n",
       " ('Breweries', 72.0),\n",
       " ('Filipino', 73.0),\n",
       " ('Creperies', 74.0),\n",
       " ('Turkish', 74.0),\n",
       " ('Food Stands', 76.0),\n",
       " ('Irish', 76.0),\n",
       " ('Music Venues', 78.0),\n",
       " ('Beer, Wine & Spirits', 79.0),\n",
       " ('Spanish', 84.0),\n",
       " ('Cajun/Creole', 90.0),\n",
       " ('Pakistani', 90.0),\n",
       " ('Grocery', 95.0),\n",
       " ('Caterers', 98.0),\n",
       " ('Ethnic Food', 99.0),\n",
       " ('Caribbean', 100.0),\n",
       " ('Comfort Food', 100.0),\n",
       " ('Soul Food', 100.0),\n",
       " ('Cocktail Bars', 106.0),\n",
       " ('Tapas Bars', 110.0),\n",
       " ('Fish & Chips', 112.0),\n",
       " ('Tapas/Small Plates', 113.0),\n",
       " ('Food Trucks', 118.0),\n",
       " ('Bagels', 126.0),\n",
       " ('Soup', 131.0),\n",
       " ('Hawaiian', 141.0),\n",
       " ('Juice Bars & Smoothies', 151.0),\n",
       " ('British', 160.0),\n",
       " ('Southern', 164.0),\n",
       " ('Gastropubs', 165.0),\n",
       " ('Desserts', 166.0),\n",
       " ('Ice Cream & Frozen Yogurt', 168.0),\n",
       " ('Vegan', 172.0),\n",
       " ('Gluten-Free', 173.0),\n",
       " ('Arts & Entertainment', 173.0),\n",
       " ('German', 177.0),\n",
       " ('Latin American', 184.0),\n",
       " ('Event Planning & Services', 196.0),\n",
       " ('Lounges', 215.0),\n",
       " ('Specialty Food', 221.0),\n",
       " ('Korean', 222.0),\n",
       " ('Canadian (New)', 223.0),\n",
       " ('Wine Bars', 253.0),\n",
       " ('Middle Eastern', 254.0),\n",
       " ('Hot Dogs', 267.0),\n",
       " ('Vegetarian', 291.0),\n",
       " ('Diners', 311.0),\n",
       " ('Tex-Mex', 322.0),\n",
       " ('Vietnamese', 351.0),\n",
       " ('Bakeries', 355.0),\n",
       " ('Salad', 372.0),\n",
       " ('Greek', 417.0),\n",
       " ('Buffets', 424.0),\n",
       " ('Indian', 429.0),\n",
       " ('Pubs', 431.0),\n",
       " ('French', 461.0),\n",
       " ('Thai', 525.0),\n",
       " ('Asian Fusion', 531.0),\n",
       " ('Barbeque', 552.0),\n",
       " ('Coffee & Tea', 565.0),\n",
       " ('Mediterranean', 571.0),\n",
       " ('Sports Bars', 596.0),\n",
       " ('Steakhouses', 598.0),\n",
       " ('Seafood', 665.0),\n",
       " ('Delis', 682.0),\n",
       " ('Chicken Wings', 684.0),\n",
       " ('Sushi Bars', 798.0),\n",
       " ('Japanese', 848.0),\n",
       " ('Cafes', 1002.0),\n",
       " ('Breakfast & Brunch', 1369.0),\n",
       " ('American (New)', 1593.0),\n",
       " ('Chinese', 1629.0),\n",
       " ('Burgers', 1774.0),\n",
       " ('Italian', 1848.0),\n",
       " ('Food', 2112.0),\n",
       " ('Sandwiches', 2364.0),\n",
       " ('American (Traditional)', 2416.0),\n",
       " ('Bars', 2423.0),\n",
       " ('Mexican', 2515.0),\n",
       " ('Nightlife', 2533.0),\n",
       " ('Pizza', 2657.0),\n",
       " ('Fast Food', 2851.0),\n",
       " ('Restaurants', 25071.0)]"
      ]
     },
     "execution_count": 273,
     "metadata": {},
     "output_type": "execute_result"
    }
   ],
   "source": [
    "restocatdict\n",
    "sorted(restocatdict.items(), key=lambda x: x[1])"
   ]
  },
  {
   "cell_type": "code",
   "execution_count": 231,
   "metadata": {
    "collapsed": false
   },
   "outputs": [
    {
     "data": {
      "text/plain": [
       "{'Active Life',\n",
       " 'Adult Entertainment',\n",
       " 'Afghan',\n",
       " 'African',\n",
       " 'Alsatian',\n",
       " 'Amateur Sports Teams',\n",
       " 'American (New)',\n",
       " 'American (Traditional)',\n",
       " 'Amusement Parks',\n",
       " 'Antiques',\n",
       " 'Apartments',\n",
       " 'Appliances',\n",
       " 'Arabian',\n",
       " 'Arcades',\n",
       " 'Argentine',\n",
       " 'Armenian',\n",
       " 'Art Galleries',\n",
       " 'Arts & Crafts',\n",
       " 'Arts & Entertainment',\n",
       " 'Asian Fusion',\n",
       " 'Australian',\n",
       " 'Austrian',\n",
       " 'Auto Repair',\n",
       " 'Automotive',\n",
       " 'Baden',\n",
       " 'Bagels',\n",
       " 'Bakeries',\n",
       " 'Bangladeshi',\n",
       " 'Banks & Credit Unions',\n",
       " 'Barbeque',\n",
       " 'Bars',\n",
       " 'Basque',\n",
       " 'Bavarian',\n",
       " 'Beauty & Spas',\n",
       " 'Bed & Breakfast',\n",
       " 'Beer Bar',\n",
       " 'Beer Garden',\n",
       " 'Beer Gardens',\n",
       " 'Beer Hall',\n",
       " 'Beer, Wine & Spirits',\n",
       " 'Belgian',\n",
       " 'Bikes',\n",
       " 'Bistros',\n",
       " 'Boating',\n",
       " 'Books, Mags, Music & Video',\n",
       " 'Bookstores',\n",
       " 'Bowling',\n",
       " 'Brasseries',\n",
       " 'Brazilian',\n",
       " 'Breakfast & Brunch',\n",
       " 'Breweries',\n",
       " 'British',\n",
       " 'Bubble Tea',\n",
       " 'Buffets',\n",
       " 'Building Supplies',\n",
       " 'Burgers',\n",
       " 'Burmese',\n",
       " 'Butcher',\n",
       " 'Cafes',\n",
       " 'Cafeteria',\n",
       " 'Cajun/Creole',\n",
       " 'Cambodian',\n",
       " 'Canadian (New)',\n",
       " 'Candy Stores',\n",
       " 'Cantonese',\n",
       " 'Car Wash',\n",
       " 'Caribbean',\n",
       " 'Casinos',\n",
       " 'Caterers',\n",
       " 'Champagne Bars',\n",
       " 'Cheese Shops',\n",
       " 'Cheesesteaks',\n",
       " 'Chicken Shop',\n",
       " 'Chicken Wings',\n",
       " 'Chinese',\n",
       " 'Chocolatiers & Shops',\n",
       " 'Cinema',\n",
       " 'Cocktail Bars',\n",
       " 'Coffee & Tea',\n",
       " 'Coffee & Tea Supplies',\n",
       " 'Colleges & Universities',\n",
       " 'Colombian',\n",
       " 'Comfort Food',\n",
       " 'Convenience Stores',\n",
       " 'Cooking Schools',\n",
       " 'Cosmetics & Beauty Supply',\n",
       " 'Country Clubs',\n",
       " 'Country Dance Halls',\n",
       " 'Creperies',\n",
       " 'Cuban',\n",
       " 'Cupcakes',\n",
       " 'Curry Sausage',\n",
       " 'Czech',\n",
       " 'DJs',\n",
       " 'Dance Clubs',\n",
       " 'Day Spas',\n",
       " 'Delicatessen',\n",
       " 'Delis',\n",
       " 'Department Stores',\n",
       " 'Desserts',\n",
       " 'Dim Sum',\n",
       " 'Diners',\n",
       " 'Discount Store',\n",
       " 'Distilleries',\n",
       " 'Dive Bars',\n",
       " 'Do-It-Yourself Food',\n",
       " 'Dominican',\n",
       " 'Donuts',\n",
       " 'Dry Cleaning & Laundry',\n",
       " 'Eastern European',\n",
       " 'Education',\n",
       " 'Egyptian',\n",
       " 'Empanadas',\n",
       " 'Ethiopian',\n",
       " 'Ethnic Food',\n",
       " 'Ethnic Grocery',\n",
       " 'Event Planning & Services',\n",
       " 'Falafel',\n",
       " 'Farmers Market',\n",
       " 'Fashion',\n",
       " 'Fast Food',\n",
       " 'Festivals',\n",
       " 'Filipino',\n",
       " 'Financial Services',\n",
       " 'Fish & Chips',\n",
       " 'Fitness & Instruction',\n",
       " 'Flea Markets',\n",
       " 'Flowers & Gifts',\n",
       " 'Fondue',\n",
       " 'Food',\n",
       " 'Food Court',\n",
       " 'Food Delivery Services',\n",
       " 'Food Stands',\n",
       " 'Food Tours',\n",
       " 'Food Trucks',\n",
       " 'French',\n",
       " 'Fruits & Veggies',\n",
       " 'Furniture Stores',\n",
       " 'Gas & Service Stations',\n",
       " 'Gastropubs',\n",
       " 'Gay Bars',\n",
       " 'Gelato',\n",
       " 'German',\n",
       " 'Gluten-Free',\n",
       " 'Golf',\n",
       " 'Greek',\n",
       " 'Grocery',\n",
       " 'Guest Houses',\n",
       " 'Haitian',\n",
       " 'Halal',\n",
       " 'Hardware Stores',\n",
       " 'Hawaiian',\n",
       " 'Health & Medical',\n",
       " 'Health Markets',\n",
       " 'Heating & Air Conditioning/HVAC',\n",
       " 'Herbs & Spices',\n",
       " 'Hiking',\n",
       " 'Himalayan/Nepalese',\n",
       " 'Hobby Shops',\n",
       " 'Home & Garden',\n",
       " 'Home Decor',\n",
       " 'Home Services',\n",
       " 'Hookah Bars',\n",
       " 'Hot Dogs',\n",
       " 'Hot Pot',\n",
       " 'Hotels',\n",
       " 'Hotels & Travel',\n",
       " 'Hungarian',\n",
       " 'Iberian',\n",
       " 'Ice Cream & Frozen Yogurt',\n",
       " 'Indian',\n",
       " 'Indonesian',\n",
       " 'International',\n",
       " 'Internet Cafes',\n",
       " 'Irish',\n",
       " 'Irish Pub',\n",
       " 'Italian',\n",
       " 'Japanese',\n",
       " 'Jazz & Blues',\n",
       " 'Juice Bars & Smoothies',\n",
       " 'Karaoke',\n",
       " 'Kebab',\n",
       " 'Kids Activities',\n",
       " 'Kitchen & Bath',\n",
       " 'Korean',\n",
       " 'Kosher',\n",
       " 'Lakes',\n",
       " 'Landmarks & Historical Buildings',\n",
       " 'Laotian',\n",
       " 'Latin American',\n",
       " 'Lebanese',\n",
       " 'Leisure Centers',\n",
       " 'Live/Raw Food',\n",
       " 'Local Flavor',\n",
       " 'Local Services',\n",
       " 'Lounges',\n",
       " 'Macarons',\n",
       " 'Malaysian',\n",
       " 'Meat Shops',\n",
       " 'Mediterranean',\n",
       " 'Mexican',\n",
       " 'Middle Eastern',\n",
       " 'Modern European',\n",
       " 'Mongolian',\n",
       " 'Moroccan',\n",
       " 'Music Venues',\n",
       " 'Musicians',\n",
       " 'Nightlife',\n",
       " 'Nutritionists',\n",
       " 'Organic Stores',\n",
       " 'Oriental',\n",
       " 'Pakistani',\n",
       " 'Palatine',\n",
       " 'Parking',\n",
       " 'Party & Event Planning',\n",
       " 'Pasta Shops',\n",
       " 'Patisserie/Cake Shop',\n",
       " 'Performing Arts',\n",
       " 'Persian/Iranian',\n",
       " 'Personal Chefs',\n",
       " 'Peruvian',\n",
       " 'Pet Services',\n",
       " 'Pets',\n",
       " 'Piano Bars',\n",
       " 'Pita',\n",
       " 'Pizza',\n",
       " 'Plumbing',\n",
       " 'Polish',\n",
       " 'Pool Halls',\n",
       " 'Portuguese',\n",
       " 'Poutineries',\n",
       " 'Pretzels',\n",
       " 'Pub Food',\n",
       " 'Public Services & Government',\n",
       " 'Pubs',\n",
       " 'Puerto Rican',\n",
       " 'Ramen',\n",
       " 'Real Estate',\n",
       " 'Restaurants',\n",
       " 'Rhinelandian',\n",
       " 'Russian',\n",
       " 'Salad',\n",
       " 'Salvadoran',\n",
       " 'Sandwiches',\n",
       " 'Scandinavian',\n",
       " 'Scottish',\n",
       " 'Seafood',\n",
       " 'Seafood Markets',\n",
       " 'Serbo Croatian',\n",
       " 'Shanghainese',\n",
       " 'Shaved Ice',\n",
       " 'Shopping',\n",
       " 'Shopping Centers',\n",
       " 'Singaporean',\n",
       " 'Slovakian',\n",
       " 'Soccer',\n",
       " 'Social Clubs',\n",
       " 'Soul Food',\n",
       " 'Soup',\n",
       " 'Southern',\n",
       " 'Spanish',\n",
       " 'Specialty Food',\n",
       " 'Specialty Schools',\n",
       " 'Sporting Goods',\n",
       " 'Sports Bars',\n",
       " 'Sports Clubs',\n",
       " 'Sports Wear',\n",
       " 'Sri Lankan',\n",
       " 'Steakhouses',\n",
       " 'Street Vendors',\n",
       " 'Supper Clubs',\n",
       " 'Sushi Bars',\n",
       " 'Swimming Pools',\n",
       " 'Swiss Food',\n",
       " 'Szechuan',\n",
       " 'Taiwanese',\n",
       " 'Tapas Bars',\n",
       " 'Tapas/Small Plates',\n",
       " 'Tea Rooms',\n",
       " 'Teppanyaki',\n",
       " 'Tex-Mex',\n",
       " 'Thai',\n",
       " 'Tours',\n",
       " 'Toy Stores',\n",
       " 'Travel Services',\n",
       " 'Trinidadian',\n",
       " 'Turkish',\n",
       " 'Ukrainian',\n",
       " 'Uzbek',\n",
       " 'Vegan',\n",
       " 'Vegetarian',\n",
       " 'Venezuelan',\n",
       " 'Venues & Event Spaces',\n",
       " 'Vietnamese',\n",
       " 'Wine Bars',\n",
       " 'Wineries',\n",
       " 'Wok',\n",
       " 'Yoga'}"
      ]
     },
     "execution_count": 231,
     "metadata": {},
     "output_type": "execute_result"
    }
   ],
   "source": [
    "set(catkeys)"
   ]
  },
  {
   "cell_type": "code",
   "execution_count": 110,
   "metadata": {
    "collapsed": false
   },
   "outputs": [],
   "source": [
    "# minidata['attributes'].hist(bins=25)"
   ]
  },
  {
   "cell_type": "code",
   "execution_count": 50,
   "metadata": {
    "collapsed": false
   },
   "outputs": [],
   "source": [
    "### CHECK NUMBER OF RESTAURANT TYPE BUSINESSES IN DATABASE\n",
    "resto = [\"Restaurants\",\"Bistros\",\"Brasseries\",\"Cafes\",\"Delicatessen\"]\n",
    "xx=[]\n",
    "ncat=[]\n",
    "restocnt=0\n",
    "#for cat in data['categories']:\n",
    "#    for i in cat:\n",
    "#        xx=xx+[i]\n",
    "#        if i in resto:\n",
    "#            restocnt = restocnt + 1\n",
    "#print \"Number of unique categories is %d\" %len(set(xx))\n",
    "#print \"Number of restaurants in data is %d\" %restocnt\n",
    "\n",
    "# Print list of unique categories\n",
    "# set(xx)"
   ]
  },
  {
   "cell_type": "code",
   "execution_count": 19,
   "metadata": {
    "collapsed": false
   },
   "outputs": [],
   "source": [
    "minidata = biz[:1000]\n",
    "\n",
    "resto = [\"Restaurants\",\"Bistros\",\"Brasseries\",\"Cafes\",\"Delicatessen\"]\n",
    "# restodata = []\n",
    "record=[]\n",
    "minidata.loc[:,\"restoind\"] = 0\n",
    "for i in range(minidata.shape[0]):\n",
    "    record = minidata.iloc[i,:]\n",
    "    k=0\n",
    "    for cat in record['categories']:\n",
    "        # print cat\n",
    "        if (cat in resto) and k<1:\n",
    "            k += 1 \n",
    "            minidata.loc[i,\"restoind\"]=1\n",
    "            # print restodata\n",
    "\n",
    "# restodata\n",
    "\n",
    "# record"
   ]
  },
  {
   "cell_type": "code",
   "execution_count": null,
   "metadata": {
    "collapsed": true
   },
   "outputs": [],
   "source": []
  },
  {
   "cell_type": "code",
   "execution_count": 92,
   "metadata": {
    "collapsed": false
   },
   "outputs": [
    {
     "data": {
      "text/plain": [
       "<matplotlib.axes._subplots.AxesSubplot at 0x171c74b50>"
      ]
     },
     "execution_count": 92,
     "metadata": {},
     "output_type": "execute_result"
    },
    {
     "data": {
      "image/png": "[encoded data removed]",
      "text/plain": [
       "<matplotlib.figure.Figure at 0x171c79710>"
      ]
     },
     "metadata": {},
     "output_type": "display_data"
    }
   ],
   "source": [
    "### Boxplot\n",
    "data.boxplot(column='review_count',return_type='axes')"
   ]
  },
  {
   "cell_type": "code",
   "execution_count": 42,
   "metadata": {
    "collapsed": false
   },
   "outputs": [
    {
     "data": {
      "text/plain": [
       "<matplotlib.axes._subplots.AxesSubplot at 0x126a843d0>"
      ]
     },
     "execution_count": 42,
     "metadata": {},
     "output_type": "execute_result"
    },
    {
     "data": {
      "image/png": "[encoded data removed]",
      "text/plain": [
       "<matplotlib.figure.Figure at 0x16617c190>"
      ]
     },
     "metadata": {},
     "output_type": "display_data"
    }
   ],
   "source": [
    "### Boxplot with Group by\n",
    "data.boxplot(column='average_stars', by = 'elitecnt')"
   ]
  },
  {
   "cell_type": "code",
   "execution_count": 94,
   "metadata": {
    "collapsed": false
   },
   "outputs": [
    {
     "data": {
      "text/plain": [
       "<matplotlib.axes._subplots.AxesSubplot at 0x146129e50>"
      ]
     },
     "execution_count": 94,
     "metadata": {},
     "output_type": "execute_result"
    },
    {
     "data": {
      "image/png": "[encoded data removed]",
      "text/plain": [
       "<matplotlib.figure.Figure at 0x145657750>"
      ]
     },
     "metadata": {},
     "output_type": "display_data"
    }
   ],
   "source": [
    "data.boxplot(column='stars', by = 'review_count')"
   ]
  },
  {
   "cell_type": "code",
   "execution_count": 44,
   "metadata": {
    "collapsed": false,
    "scrolled": true
   },
   "outputs": [
    {
     "data": {
      "text/plain": [
       "<matplotlib.axes._subplots.AxesSubplot at 0x1a99d2250>"
      ]
     },
     "execution_count": 44,
     "metadata": {},
     "output_type": "execute_result"
    },
    {
     "data": {
      "image/png": "[encoded data removed]",
      "text/plain": [
       "<matplotlib.figure.Figure at 0x165aea9d0>"
      ]
     },
     "metadata": {},
     "output_type": "display_data"
    }
   ],
   "source": [
    "data.boxplot(column='fans', by = 'average_stars')"
   ]
  },
  {
   "cell_type": "code",
   "execution_count": null,
   "metadata": {
    "collapsed": true
   },
   "outputs": [],
   "source": [
    "### GET UNIQUE VALUES OF A PARTICULAR COLUMN\n",
    "set(data[\"city\"])"
   ]
  },
  {
   "cell_type": "code",
   "execution_count": null,
   "metadata": {
    "collapsed": true
   },
   "outputs": [],
   "source": [
    "data.loc[0,\"attributes\"]"
   ]
  },
  {
   "cell_type": "code",
   "execution_count": null,
   "metadata": {
    "collapsed": true
   },
   "outputs": [],
   "source": [
    "### ACCESS ELEMENTS USING INDEX NUMBERS\n",
    "data.iloc[3:5,2:4]"
   ]
  },
  {
   "cell_type": "code",
   "execution_count": null,
   "metadata": {
    "collapsed": true
   },
   "outputs": [],
   "source": [
    "### ACCESS ELEMENTS USING COLUMN NAMES\n",
    "data.loc[0,\"attributes\"]"
   ]
  }
 ],
 "metadata": {
  "anaconda-cloud": {},
  "kernelspec": {
   "display_name": "Python 2",
   "language": "python",
   "name": "python2"
  },
  "language_info": {
   "codemirror_mode": {
    "name": "ipython",
    "version": 2
   },
   "file_extension": ".py",
   "mimetype": "text/x-python",
   "name": "python",
   "nbconvert_exporter": "python",
   "pygments_lexer": "ipython2",
   "version": "2.7.12"
  }
 },
 "nbformat": 4,
 "nbformat_minor": 0
}
