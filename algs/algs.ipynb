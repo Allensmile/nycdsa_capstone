{
 "cells": [
  {
   "cell_type": "markdown",
   "metadata": {},
   "source": [
    "# Algorithms and Data Structures\n",
    "\n",
    "<a name=\"outlines\"></a>\n",
    "\n",
    "\n",
    "## Outlines\n",
    "\n",
    "- <a href=\"#algs_analysis\">Analysis of Algorithms</a>\n",
    "  - <a href=\"#big_o\">Big-O Notation</a>\n",
    "  - <a href=\"#fibo\">Example: Fibonacci number</a>\n",
    "- <a href=\"#sorting\">Sorting</a>\n",
    "  - <a href=\"#elementary\">Elementary Sorts</a>\n",
    "  - <a href=\"#mergesort\">Mergesort</a>\n",
    "  - <a href=\"#quicksort\">Quicksort</a>\n",
    "  - <a href=\"#summary\">Sorting Algorithms Summary</a>\n",
    "- <a href=\"#searching\">Searching</a>\n",
    "  - <a href=\"#linear\">Linear Search</a>\n",
    "  - <a href=\"#binary\">Binary Search</a>\n",
    "  - <a href=\"#hash\">Hash Tables</a>"
   ]
  },
  {
   "cell_type": "code",
   "execution_count": 1,
   "metadata": {
    "collapsed": true
   },
   "outputs": [],
   "source": [
    "import unittest\n",
    "import random\n",
    "import gauge\n",
    "import algs\n",
    "import matplotlib.pyplot as plt\n",
    "%matplotlib inline"
   ]
  },
  {
   "cell_type": "markdown",
   "metadata": {},
   "source": [
    "<p><a name=\"algs_analysis\"></a></p>\n",
    "\n",
    "## Algorithms Analysis\n",
    "\n",
    "Algorithmic complexity refers to the efficiency of an algorithm.  There are various measures of efficiency:\n",
    "\n",
    "- Time: This is the most important and widely studied, and the one we will (mostly) discuss today.\n",
    "- Memory:  Some algorithms can be fast in principle, but require so much memory that they are impractical.\n",
    "- Network usage:  Algorithms designed for parallelism can differ in the amount of communication required, which may be a limiting factor in practice.\n",
    "\n",
    "In this lecture, we will be focusing on:\n",
    "\n",
    "* To understand why algorithm is important.\n",
    "* To be able to use “Big-O” to describe execution time.\n",
    "* To understand the “Big-O” execution time of common algorims.\n",
    "* To understand how the implementation of Python data impacts algorithm analysis.\n",
    "* To understand how to benchmark simple Python programs."
   ]
  },
  {
   "cell_type": "markdown",
   "metadata": {},
   "source": [
    "<p><a name=\"big_o\"></a></p>\n",
    "\n",
    "### Big-O Notation\n",
    "\n",
    "When trying to characterize an algorithm’s efficiency in terms of execution time, independent of any particular program or computer, it is important to quantify the number of operations or steps that the algorithm will require.\n",
    "\n",
    "**Big-O** notation is used in Computer Science to describe the performance or complexity of an algorithm. \n",
    "\n",
    "**Big-O** specifically describes the worst-case scenario, and can be used to describe the execution time required or the space used (e.g. in memory or on disk) by an algorithm. \n",
    "\n",
    "* If $f(x)$ is a sum of several terms, if there is one with largest growth rate, it can be kept, and all others omitted.\n",
    "* If $f(x)$ is a product of several factors, any constants (terms in the product that do not depend on x) can be omitted.\n",
    "\n",
    "<img src=\"./img/big_o.png\" width=\"60%\">"
   ]
  },
  {
   "cell_type": "markdown",
   "metadata": {},
   "source": [
    "<p><a name=\"fibo\"></a></p>\n",
    "\n",
    "### Example: Fibonacci number\n",
    "\n",
    "In mathematical terms, the sequence of Fibonacci numbers is defined by the recurrence relation:\n",
    "\n",
    "$F_n = F_{n-1} + F_{n-2}$\n",
    "\n",
    "with seed values:\n",
    "\n",
    "$F_1 = 1\\text{, }F_2 = 1$\n",
    "\n",
    "The first 10 Fibonacci numbers are: 1, 1, 2, 3, 5, 8, 13, 21, 34, 55.\n",
    "\n",
    "Now we define two methods for calculating the n'th Fibonacci number, one using *recrusive* method, the other using *iterative* method:"
   ]
  },
  {
   "cell_type": "code",
   "execution_count": null,
   "metadata": {
    "collapsed": true
   },
   "outputs": [],
   "source": [
    "def fibo_iterative(n):\n",
    "    '''Find the n'th Fibonacci number using iterative method'''\n",
    "    assert type(n) is int and n > 0, 'n must be a positive integer'\n",
    "    i, j = 1, 1\n",
    "    while(n > 1):\n",
    "        i, j = j, i + j\n",
    "        n -= 1\n",
    "    return i\n",
    "\n",
    "def fibo_recursive(n):\n",
    "    '''Find the n'th Fibonacci number using recursive method'''\n",
    "    assert type(n) is int and n > 0, 'n must be a positive integer'\n",
    "    if n < 3:\n",
    "        return 1\n",
    "    else:\n",
    "        return fibo_recursive(n-1) + fibo_recursive(n-2)"
   ]
  },
  {
   "cell_type": "markdown",
   "metadata": {},
   "source": [
    "To test the running time of the two different algorithms, we can use either `%timeit`, a ipython notebook built-in magic command, or the function `gauge.func_timer()` that is defined in the python script gauge.py."
   ]
  },
  {
   "cell_type": "code",
   "execution_count": null,
   "metadata": {
    "collapsed": false
   },
   "outputs": [],
   "source": [
    "n = 20\n",
    "# print gauge.func_timer(fibo_iterative, n)\n",
    "# print gauge.func_timer(fibo_recursive, n)\n",
    "%timeit -n10 fibo_iterative(n)\n",
    "%timeit -n10 fibo_recursive(n)"
   ]
  },
  {
   "cell_type": "markdown",
   "metadata": {
    "collapsed": false
   },
   "source": [
    "Question: what are the time complexities of the two Fibonacci number algorithms? "
   ]
  },
  {
   "cell_type": "code",
   "execution_count": null,
   "metadata": {
    "collapsed": false
   },
   "outputs": [],
   "source": [
    "fibo_iter = []\n",
    "fibo_recur = []\n",
    "n = range(1, 20)\n",
    "for i in n:\n",
    "    fibo_iter.append(gauge.func_timer(fibo_iterative, i))\n",
    "    fibo_recur.append(gauge.func_timer(fibo_recursive, i))\n",
    "    \n",
    "plt.plot(n, fibo_iter, lw=2, label=\"iterative\")\n",
    "plt.plot(n, fibo_recur, lw=2, label='recursive')\n",
    "plt.legend(loc=2)\n",
    "plt.show()"
   ]
  },
  {
   "cell_type": "markdown",
   "metadata": {},
   "source": [
    "<a name=\"sorting\"></a>\n",
    "\n",
    "\n",
    "## Sorting\n",
    "\n",
    "Sorting is the process of rearranging a sequence of objects so as to put them in some logical order. Sorting plays a major role in commercial data processing and in modern scientific computing.\n",
    "\n",
    "- *Sorting cost model*: we count compares and exchanges. For algorithms that do not use exchanges, we count array accesses.\n",
    "- *Extra memory*: in-place sorting (constant extra memory usage), and out-of-place sorting(extra memory to hold another copy is needed).\n",
    "- *Type of data*: In general, a sorting algorithm needs to be able to work with any data type that is *comparable*. Here the sorting algorithms that we implement are only guaranteed to work with numbers. \n",
    "\n",
    "In this section, we consider several classical sorting methods and their python implementations.\n",
    "\n",
    "  - <a href=\"#elementary\">Elementary Sorts</a> introduces insertion sort and selection sort.\n",
    "  - <a href=\"#mergesort\">Mergesort</a> a divide & conquer sorting algorithm that is guaranteed to run in linearithmic ($O(n\\log{n})$) time.\n",
    "  - <a href=\"#quicksort\">Quicksort</a> a divide & conquer sorting algorithm that is guaranteed to run in linearithmic ($O(n\\log{n})$) time.\n",
    "  - <a href=\"#summary\">Sorting Algorithms Summary</a>"
   ]
  },
  {
   "cell_type": "markdown",
   "metadata": {},
   "source": [
    "<p><a name=\"elementary\"></a></p>\n",
    "\n",
    "### Elementary Sorts\n",
    "\n",
    "Two of the simplest sorts are *insertion sort* and *selection sort*, both of which are efficient on small data, due to low overhead, but not efficient on large data.\n",
    "\n",
    "*Insertion sort* is generally faster than *selection sort* in practice, due to fewer comparisons and good performance on almost-sorted data, and thus is preferred in practice, but *selection sort* uses fewer writes, and thus is used when write performance is a limiting factor."
   ]
  },
  {
   "cell_type": "markdown",
   "metadata": {},
   "source": [
    "**Insertion sort**: always maintains a sorted sublist in the lower positions of the list. Consider one item at a time, inserting each into its proper place among those already considered (keeping them sorted).\n",
    "\n",
    "<img src=\"./img/insertionsort.png\">\n",
    "\n",
    "For randomly ordered arrays of length $N$ with with distinct keys, insertion sort uses ~$N^2/4$ compares and ~$N^2/4$ exchanges on the average. The worst case is ~$N^2/2$ compares and ~$N^2/2$ exchanges and the best case is $N-1$ compares and 0 exchanges."
   ]
  },
  {
   "cell_type": "code",
   "execution_count": null,
   "metadata": {
    "collapsed": true
   },
   "outputs": [],
   "source": [
    "def insertion_sort(L):\n",
    "    # implement insertion sort algorithm\n",
    "    pass\n",
    "    return L"
   ]
  },
  {
   "cell_type": "code",
   "execution_count": null,
   "metadata": {
    "collapsed": false
   },
   "outputs": [],
   "source": [
    "# replace algs.insertion_sort with your sorting algorithms\n",
    "\n",
    "suite = unittest.TestSuite()\n",
    "suite.addTest(gauge.SortingTest(algs.insertion_sort))\n",
    "unittest.TextTestRunner(verbosity=2).run(suite)"
   ]
  },
  {
   "cell_type": "markdown",
   "metadata": {},
   "source": [
    "**Selection sort**\n",
    "\n",
    "* First, find the largest(smallest) item in the array, and exchange it with the first entry.\n",
    "* Then, find the next largest(smallest) item and exchange it with the second entry.\n",
    "* Continue in this way until the entire array is sorted.\n",
    "\n",
    "<img src=\"./img/selectionsort.png\">\n",
    "\n",
    "Selection sort uses ~$N^2/2$ compares and $N$ exchanges to sort an array of length $N$."
   ]
  },
  {
   "cell_type": "code",
   "execution_count": null,
   "metadata": {
    "collapsed": true
   },
   "outputs": [],
   "source": [
    "def selection_sort(L):\n",
    "    # implement selection sort algorithm\n",
    "    pass\n",
    "    return L"
   ]
  },
  {
   "cell_type": "code",
   "execution_count": null,
   "metadata": {
    "collapsed": false
   },
   "outputs": [],
   "source": [
    "# replace algs.selection_sort with your sorting algorithms\n",
    "\n",
    "suite = unittest.TestSuite()\n",
    "suite.addTest(gauge.SortingTest(algs.selection_sort))\n",
    "unittest.TextTestRunner(verbosity=2).run(suite)"
   ]
  },
  {
   "cell_type": "markdown",
   "metadata": {},
   "source": [
    "<a name=\"mergesort\"></a>\n",
    "\n",
    "### Merge sort\n",
    "\n",
    "**Merge sort** sorts a list using divide and conquer strategy:\n",
    "- The algorithm recursively divides a list in half.\n",
    "- If the list is empty or has one item, it is sorted by definition (the base case).\n",
    "- If the list has more than one item, we split the list and recursively invoke a merge sort on both halves.\n",
    "- Once the two halves are sorted, they are merged to give the full list.\n",
    "\n",
    "Divide:\n",
    "<img src=\"./img/mergesortA.png\">\n",
    "Conquer:\n",
    "<img src=\"./img/mergesortB.png\">\n",
    "\n",
    "Mergesort uses between $1/2N\\log{N}$ and $N\\log{N}$ compares and at most $6N\\log{N}$ array accesses to sort any array of length $N$."
   ]
  },
  {
   "cell_type": "code",
   "execution_count": null,
   "metadata": {
    "collapsed": true
   },
   "outputs": [],
   "source": [
    "def merge(L1, L2):\n",
    "    # implement merge method\n",
    "    # L1 and L2 are two sorted list\n",
    "    pass\n",
    "\n",
    "def merge_sort(L):\n",
    "    # implement merge sort algorithm\n",
    "    if len(L) > 1:\n",
    "        pass\n",
    "        # divide L into two sub-lists\n",
    "        # merge sort two sub-lists\n",
    "        # merged two sorted sub-lists and return\n",
    "    else:\n",
    "        pass\n",
    "        return L"
   ]
  },
  {
   "cell_type": "code",
   "execution_count": null,
   "metadata": {
    "collapsed": false
   },
   "outputs": [],
   "source": [
    "# replace algs.merge_sort with your sorting algorithms\n",
    "\n",
    "suite = unittest.TestSuite()\n",
    "suite.addTest(gauge.SortingTest(algs.merge_sort))\n",
    "unittest.TextTestRunner(verbosity=2).run(suite)"
   ]
  },
  {
   "cell_type": "markdown",
   "metadata": {},
   "source": [
    "<a name=\"quicksort\"></a>\n",
    "\n",
    "\n",
    "### Quick sort\n",
    "\n",
    "**Quick sort** is a divide-and-conquer method for sorting. It works by partitioning an array into two parts, then sorting the parts independently. \n",
    "\n",
    "- Assign pivot:\n",
    "<img src=\"./img/quicksortA.png\">\n",
    "- Partition list based on the pivot\n",
    "<img src=\"./img/quicksortB.png\">\n",
    "- Move pivot to position and do quick sort on sub-lists:\n",
    "<img src=\"./img/quicksortC.png\">\n"
   ]
  },
  {
   "cell_type": "code",
   "execution_count": null,
   "metadata": {
    "collapsed": true
   },
   "outputs": [],
   "source": [
    "def partition(L, start, end):\n",
    "    pass \n",
    "    \n",
    "def quick_sort(L):\n",
    "    pass\n",
    "    return L"
   ]
  },
  {
   "cell_type": "code",
   "execution_count": null,
   "metadata": {
    "collapsed": false
   },
   "outputs": [],
   "source": [
    "# replace algs.quick_sort with your sorting algorithms\n",
    "\n",
    "suite = unittest.TestSuite()\n",
    "suite.addTest(gauge.SortingTest(algs.quick_sort))\n",
    "unittest.TextTestRunner(verbosity=2).run(suite)"
   ]
  },
  {
   "cell_type": "markdown",
   "metadata": {},
   "source": [
    "<a name=\"summary\"></a>\n",
    "\n",
    "### Sorting Algorithms Summary\n",
    "\n",
    "<a href=\"https://www.toptal.com/developers/sorting-algorithms/\">Sorting Algorithms Animations</a>\n",
    "\n",
    "Now we want to compare the actural running time of different sorting algorithms."
   ]
  },
  {
   "cell_type": "code",
   "execution_count": null,
   "metadata": {
    "collapsed": false
   },
   "outputs": [],
   "source": [
    "def sort_chart(func_list, n = range(100, 2000, 100)):\n",
    "    times = [[] for i in range(len(func_list))]\n",
    "    for i in n:\n",
    "        L = [random.randint(0,1000) for x in xrange(i)]\n",
    "        for k, v in enumerate(func_list):\n",
    "            times[k].append(gauge.func_timer(v, L))\n",
    "    for k, v in enumerate(func_list):\n",
    "        plt.plot(n, times[k], lw=2, label=v.__name__)\n",
    "    plt.legend(loc=2)\n",
    "    plt.show()"
   ]
  },
  {
   "cell_type": "code",
   "execution_count": null,
   "metadata": {
    "collapsed": false
   },
   "outputs": [],
   "source": [
    "sort_chart([algs.insertion_sort, \n",
    "            algs.selection_sort, \n",
    "            algs.merge_sort, \n",
    "            algs.quick_sort])"
   ]
  },
  {
   "cell_type": "markdown",
   "metadata": {},
   "source": [
    "How about the Python built-in sorting function `sorted`, comparted with merge_sort and quick_sort?"
   ]
  },
  {
   "cell_type": "code",
   "execution_count": null,
   "metadata": {
    "collapsed": false
   },
   "outputs": [],
   "source": [
    "sort_chart([algs.merge_sort, algs.quick_sort, sorted], \n",
    "           n = range(1000, 20000, 1000))"
   ]
  },
  {
   "cell_type": "markdown",
   "metadata": {
    "collapsed": false
   },
   "source": [
    "So why is the Python built-in sorting method so fast?\n",
    "\n",
    "Python uses <a href=\"https://en.wikipedia.org/wiki/Timsort\">Timsort</a>,  a hybrid stable sorting algorithm, derived from merge sort and insertion sort, designed to perform well on many kinds of real-world data."
   ]
  },
  {
   "cell_type": "markdown",
   "metadata": {
    "collapsed": false
   },
   "source": [
    "<a name=\"searching\"></a>\n",
    "\n",
    "## Searching\n",
    "\n",
    "Modern computing and the internet have made accessible a vast amount of information. The ability to efficiently search through this information is fundamental to computation. \n",
    "\n",
    "This section covers classical searching algorithms iand their python implementations in linear data structures.\n",
    "\n",
    "  - <a href=\"#linear\">Linear Search</a> sequentially checks each element of the list for the target value until a match is found or until all the elements have been searched.\n",
    "  - <a href=\"#binary\">Binary Search</a> finds the position of a target value within a sorted array.\n",
    "  - <a href=\"#hash\">Hash Tables</a> uses a hash function to compute an index into an array of buckets or slots, from which the desired value can be found."
   ]
  },
  {
   "cell_type": "markdown",
   "metadata": {},
   "source": [
    "<a name=\"linear\"></a>\n",
    "\n",
    "### Linear Search\n",
    "\n",
    "Linear search runs in at worst linear time and makes at most n comparisons, where $n$ is the length of the list. If each element is equally likely to be searched, then linear search has an average case of $n/2$ comparisons, but the average case can be affected if the search probabilities for each element vary.\n",
    " \n",
    "<img src=\"./img/linear.png\">"
   ]
  },
  {
   "cell_type": "markdown",
   "metadata": {},
   "source": [
    "Now implement the linear search algorithm which takes a list `L` and a single value `val` as arguments. \n",
    "\n",
    "The function will return the index of `val` if it is in the list, i.e., `L[idx] == val` or `-1` if it is not."
   ]
  },
  {
   "cell_type": "code",
   "execution_count": null,
   "metadata": {
    "collapsed": true
   },
   "outputs": [],
   "source": [
    "def linear_search(L, val):\n",
    "    # implelent linear search algorithm\n",
    "    pass"
   ]
  },
  {
   "cell_type": "code",
   "execution_count": null,
   "metadata": {
    "collapsed": false
   },
   "outputs": [],
   "source": [
    "suite = unittest.TestSuite()\n",
    "suite.addTest(gauge.SearchingTest(algs.linear_search))\n",
    "unittest.TextTestRunner(verbosity=2).run(suite)"
   ]
  },
  {
   "cell_type": "markdown",
   "metadata": {
    "collapsed": true
   },
   "source": [
    "<a name=\"binary\"></a>\n",
    "\n",
    "### Binary search\n",
    "\n",
    "It is possible to take greater advantage of the ordered list if we are clever with our comparisons. \n",
    "\n",
    "Instead of searching the list in sequence, a binary search will start by examining the middle item. If that item is the one we are searching for, we are done. If it is not the correct item, we can use the ordered nature of the list to eliminate half of the remaining items. If the item we are searching for is greater than the middle item, we know that the entire lower half of the list as well as the middle item can be eliminated from further consideration. The item, if it is in the list, must be in the upper half.\n",
    "\n",
    "<img src=\"./img/binary.png\">"
   ]
  },
  {
   "cell_type": "markdown",
   "metadata": {},
   "source": [
    "Now implement the binary search algorithm which takes a sorted list `L` and a single value `val` as arguments. \n",
    "\n",
    "The function will return the index of `val` if it is in the list, i.e., `L[idx] == val` or `-1` if it is not."
   ]
  },
  {
   "cell_type": "code",
   "execution_count": null,
   "metadata": {
    "collapsed": true
   },
   "outputs": [],
   "source": [
    "def binary_search(L, val):\n",
    "    pass"
   ]
  },
  {
   "cell_type": "code",
   "execution_count": null,
   "metadata": {
    "collapsed": false
   },
   "outputs": [],
   "source": [
    "suite = unittest.TestSuite()\n",
    "suite.addTest(gauge.SearchingTest(algs.binary_search))\n",
    "unittest.TextTestRunner(verbosity=2).run(suite)"
   ]
  },
  {
   "cell_type": "markdown",
   "metadata": {
    "collapsed": true
   },
   "source": [
    "<a name=\"hash\"></a>\n",
    "\n",
    "### Hash Tables\n",
    "\n",
    "A hash table is a collection of items which are stored in such a way as to make it easy to find them later. Each position of the hash table, can hold an item and is named by an integer value starting at 0. Initially, the hash table contains no items so every slot is empty. We can implement a hash table by using a list with each element initialized to the special Python value None.\n",
    "\n",
    "<img src=\"./img/hashtable.png\">\n",
    "\n",
    "The mapping between an item and the slot where that item belongs in the hash table is called the **hash function**. The hash function will take any item in the collection and return an integer in the range of slot names, between 0 and m-1. The simplest hash function, sometimes referred to as the “remainder method”, takes an item and divides it by the table size, returning the remainder as its hash value.\n",
    "\n",
    "<img src=\"./img/hashtable2.png\">\n",
    "\n",
    "According to the hash function, two or more items may be in the same slot. This is referred to as a **collision**. Clearly, collisions create a problem for the hashing technique. \n",
    "\n",
    "When two items hash to the same slot, we must have a systematic method for placing the second item in the hash table. This process is called **collision resolution**.\n",
    "\n",
    "One method for resolving collisions looks into the hash table and tries to find another open slot to hold the item that caused the collision. A simple way to do this is to start at the original hash value position and then move in a sequential manner through the slots until we encounter the first slot that is empty. Note that we may need to go back to the first slot (circularly) to cover the entire hash table. By systematically visiting each slot one at a time, we are performing an open addressing technique called **linear probing**.\n",
    "\n",
    "<img src=\"./img/linearprobing1.png\">\n",
    "\n"
   ]
  },
  {
   "cell_type": "markdown",
   "metadata": {},
   "source": [
    "### Implementing the HashMap Data Type (aka Python dict)\n",
    "\n",
    "One of the most useful Python collections is the dictionary. Recall that a dictionary is an associative data type where you can store key–data pairs. The key is used to look up the associated data value. We often refer to this idea as a map.\n",
    "\n",
    "The `map` data type is defined as follows:\n",
    "* The structure is an unordered collection of associations between a key and a data value. \n",
    "* The keys in a map are all unique so that there is a one-to-one relationship between a key and a value.\n",
    "\n",
    "In computer science, such a data structure usually refers `HashMap`, which means to use hash function to map a key to a corresponding value. In addition to storing key-value pairs, the `HashMap` class should also have the following features:\n",
    "* O(1) inserting time and O(1) searching time\n",
    "* Automatically resizing based on the total number of key-value pairs to save space\n",
    "\n",
    "\n",
    "are given below."
   ]
  },
  {
   "cell_type": "code",
   "execution_count": null,
   "metadata": {
    "collapsed": false
   },
   "outputs": [],
   "source": [
    "class HashMap(object):\n",
    "\n",
    "    def __init__(self, capacity=16):\n",
    "        self.__size = capacity\n",
    "        self.__keys = [None] * self.__size\n",
    "        self.__vals = [None] * self.__size\n",
    "        self.__length = 0\n",
    "\n",
    "    def __setitem__(self, key, value):\n",
    "        idx = hash(key) % self.__size\n",
    "        while self.__keys[idx] is not None:\n",
    "            if key == self.__keys[idx]:\n",
    "                break\n",
    "            idx += 1\n",
    "            idx %= self.__size\n",
    "        if self.__length > self.__size * .75:\n",
    "            self.__resize(2)\n",
    "        self.__keys[idx] = key\n",
    "        self.__vals[idx] = value\n",
    "        self.__length += 1\n",
    "\n",
    "    def __getitem__(self, key):\n",
    "        idx = hash(key) % self.__size\n",
    "        while self.__keys[idx] is not None:\n",
    "            if key == self.__keys[idx]:\n",
    "                return self.__vals[idx]\n",
    "            idx += 1\n",
    "            idx %= self.__size\n",
    "        raise KeyError(\"key not found\")\n",
    "\n",
    "    def __delitem__(self, key):\n",
    "        idx = hash(key) % self.__size\n",
    "        while self.__keys[idx] is not None:\n",
    "            if key == self.__keys[idx]:\n",
    "                self.__keys[idx] = None\n",
    "                self.__vals[idx] = None\n",
    "                self.__length -= 1\n",
    "                if self.__length < self.__size * .25:\n",
    "                    self.__resize(.5)\n",
    "                return\n",
    "            idx += 1\n",
    "            idx %= self.__size\n",
    "        raise KeyError(\"key not found\")\n",
    "        \n",
    "    def keys(self):\n",
    "        return filter(lambda x: x is not None, self.__keys)\n",
    "    \n",
    "    def items(self):\n",
    "        return filter(lambda x: x[0] is not None, zip(self.__keys, self.__vals))\n",
    "    \n",
    "    def __resize(self, n):\n",
    "        if n > 1 or self.__size > 16:\n",
    "            newmap = HashMap(capacity=int(self.__size*n))\n",
    "            for k in self:\n",
    "                newmap[k] = self[k]\n",
    "            self.__size = newmap.__size\n",
    "            self.__keys = newmap.__keys\n",
    "            self.__vals = newmap.__vals\n",
    "        return\n",
    "    \n",
    "    def __iter__(self):\n",
    "        for i in self.__keys:\n",
    "            if i is not None:\n",
    "                yield i\n",
    "\n",
    "    def __len__(self):\n",
    "        return self.__length\n",
    "    \n",
    "    def __str__(self):\n",
    "        pairs = filter(lambda a: a[0] is not None, zip(self.__keys, self.__vals))\n",
    "        return '{' + ', '.join(map(lambda x: ' : '.join(map(str, x)), pairs)) + '}'"
   ]
  },
  {
   "cell_type": "markdown",
   "metadata": {
    "collapsed": true
   },
   "source": [
    "Exercise:\n",
    "\n",
    "1. Initiate a HashMap instance?\n",
    "2. Randomly add some key-value pairs to your HashMap instance.\n",
    "3. Iterate the HashMap instance\n",
    "4. Delete some key-value pairs from the HashMap instance.\n"
   ]
  },
  {
   "cell_type": "code",
   "execution_count": null,
   "metadata": {
    "collapsed": true
   },
   "outputs": [],
   "source": []
  }
 ],
 "metadata": {
  "anaconda-cloud": {},
  "kernelspec": {
   "display_name": "Python [Root]",
   "language": "python",
   "name": "Python [Root]"
  },
  "language_info": {
   "codemirror_mode": {
    "name": "ipython",
    "version": 2
   },
   "file_extension": ".py",
   "mimetype": "text/x-python",
   "name": "python",
   "nbconvert_exporter": "python",
   "pygments_lexer": "ipython2",
   "version": "2.7.12"
  }
 },
 "nbformat": 4,
 "nbformat_minor": 0
}
